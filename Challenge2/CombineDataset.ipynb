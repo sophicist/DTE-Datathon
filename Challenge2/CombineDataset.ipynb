{
 "cells": [
  {
   "cell_type": "code",
   "execution_count": 2,
   "metadata": {},
   "outputs": [
    {
     "name": "stdout",
     "output_type": "stream",
     "text": [
      "['Cancer-studies.csv', 'Covid 19-studies.csv', 'Heart.csv', 'HIV-studies.csv', 'Malaria-studies.csv', 'Pneumonia-studies.csv']\n",
      "The dataset: Cancer-studies has been read with shape (100262, 31)\n",
      "The dataset: Covid 19-studies has been read with shape (9342, 31)\n",
      "The dataset: Heart has been read with shape (32176, 31)\n",
      "The dataset: HIV-studies has been read with shape (9113, 31)\n",
      "The dataset: Malaria-studies has been read with shape (1330, 31)\n",
      "The dataset: Pneumonia-studies has been read with shape (9640, 31)\n",
      "--------------------------------------------------------------------------------------------------------------------------------------------------------------------------------------------------------\n",
      "(161863, 31)\n"
     ]
    },
    {
     "name": "stderr",
     "output_type": "stream",
     "text": [
      "A subdirectory or file Outputs already exists.\n"
     ]
    }
   ],
   "source": [
    "# the required libraries\n",
    "import os\n",
    "import pandas as pd\n",
    "\n",
    "print(os.listdir('Data'))\n",
    "# read the datasets\n",
    "def reader(name):\n",
    "    \"\"\" Read the dataset and add the type of study column to it\"\"\"\n",
    "    df = pd.read_csv(f'Data/{name}')\n",
    "    type = name.replace('.csv',\"\")\n",
    "    df['Type'] = type\n",
    "    print(f\"The dataset: {type} has been read with shape {df.shape}\")\n",
    "    return df\n",
    "# empty list that will store the datasets\n",
    "all_datasets = []\n",
    "# go through the datasets and combine them using the function\n",
    "for dataset in os.listdir('Data'):\n",
    "    data = reader(dataset)\n",
    "    all_datasets.append(data)\n",
    "# combine all the datasets into one large dataset\n",
    "dt = pd.concat(all_datasets)\n",
    "print(\"--\"*100)\n",
    "print(dt.shape)\n",
    "!mkdir Outputs\n",
    "# save the data to the local machine \n",
    "dt.to_excel('Outputs/FinalDataset.xlsx')"
   ]
  }
 ],
 "metadata": {
  "kernelspec": {
   "display_name": "Python 3 (ipykernel)",
   "language": "python",
   "name": "python3"
  },
  "language_info": {
   "codemirror_mode": {
    "name": "ipython",
    "version": 3
   },
   "file_extension": ".py",
   "mimetype": "text/x-python",
   "name": "python",
   "nbconvert_exporter": "python",
   "pygments_lexer": "ipython3",
   "version": "3.10.10"
  }
 },
 "nbformat": 4,
 "nbformat_minor": 4
}
