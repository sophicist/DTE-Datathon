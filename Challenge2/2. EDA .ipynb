{
 "cells": [
  {
   "cell_type": "code",
   "execution_count": 10,
   "metadata": {},
   "outputs": [
    {
     "data": {
      "text/html": [
       "<div>\n",
       "<style scoped>\n",
       "    .dataframe tbody tr th:only-of-type {\n",
       "        vertical-align: middle;\n",
       "    }\n",
       "\n",
       "    .dataframe tbody tr th {\n",
       "        vertical-align: top;\n",
       "    }\n",
       "\n",
       "    .dataframe thead th {\n",
       "        text-align: right;\n",
       "    }\n",
       "</style>\n",
       "<table border=\"1\" class=\"dataframe\">\n",
       "  <thead>\n",
       "    <tr style=\"text-align: right;\">\n",
       "      <th></th>\n",
       "      <th>Unnamed: 0</th>\n",
       "      <th>NCT Number</th>\n",
       "      <th>Study Title</th>\n",
       "      <th>Study URL</th>\n",
       "      <th>Acronym</th>\n",
       "      <th>Study Status</th>\n",
       "      <th>Brief Summary</th>\n",
       "      <th>Study Results</th>\n",
       "      <th>Conditions</th>\n",
       "      <th>Interventions</th>\n",
       "      <th>...</th>\n",
       "      <th>Other IDs</th>\n",
       "      <th>Start Date</th>\n",
       "      <th>Primary Completion Date</th>\n",
       "      <th>Completion Date</th>\n",
       "      <th>First Posted</th>\n",
       "      <th>Results First Posted</th>\n",
       "      <th>Last Update Posted</th>\n",
       "      <th>Locations</th>\n",
       "      <th>Study Documents</th>\n",
       "      <th>Type</th>\n",
       "    </tr>\n",
       "  </thead>\n",
       "  <tbody>\n",
       "    <tr>\n",
       "      <th>0</th>\n",
       "      <td>0</td>\n",
       "      <td>NCT02426125</td>\n",
       "      <td>A Study of Ramucirumab (LY3009806) Plus Doceta...</td>\n",
       "      <td>https://clinicaltrials.gov/study/NCT02426125</td>\n",
       "      <td>RANGE</td>\n",
       "      <td>COMPLETED</td>\n",
       "      <td>The main purpose of this study is to evaluate ...</td>\n",
       "      <td>YES</td>\n",
       "      <td>Urothelial Carcinoma</td>\n",
       "      <td>DRUG: Ramucirumab|DRUG: Docetaxel|DRUG: Placebo</td>\n",
       "      <td>...</td>\n",
       "      <td>15679|I4T-MC-JVDC|2014-003655-66</td>\n",
       "      <td>2015-07-13</td>\n",
       "      <td>2017-04-21</td>\n",
       "      <td>2022-07-26</td>\n",
       "      <td>2015-04-24</td>\n",
       "      <td>2019-01-25</td>\n",
       "      <td>2023-08-21</td>\n",
       "      <td>Highlands Oncology Group, Fayetteville, Arkans...</td>\n",
       "      <td>Study Protocol|Statistical Analysis Plan</td>\n",
       "      <td>Cancer-studies</td>\n",
       "    </tr>\n",
       "    <tr>\n",
       "      <th>1</th>\n",
       "      <td>1</td>\n",
       "      <td>NCT04910425</td>\n",
       "      <td>PSMA-Targeted 18F-DCFPyL PET/MRI for the Detec...</td>\n",
       "      <td>https://clinicaltrials.gov/study/NCT04910425</td>\n",
       "      <td>NaN</td>\n",
       "      <td>NOT_YET_RECRUITING</td>\n",
       "      <td>This phase II trial studies how well 18F-DCFPy...</td>\n",
       "      <td>NO</td>\n",
       "      <td>Prostate Carcinoma</td>\n",
       "      <td>DRUG: Fluorine F 18 DCFPyL|DRUG: Gadobenate Di...</td>\n",
       "      <td>...</td>\n",
       "      <td>NU 19U05|NCI-2021-05593|STU00212326|NU 19U05|P...</td>\n",
       "      <td>2023-06-17</td>\n",
       "      <td>2026-06-17</td>\n",
       "      <td>2028-07</td>\n",
       "      <td>2021-06-02</td>\n",
       "      <td>NaN</td>\n",
       "      <td>2022-08-03</td>\n",
       "      <td>Northwestern University, Chicago, Illinois, 60...</td>\n",
       "      <td>NaN</td>\n",
       "      <td>Cancer-studies</td>\n",
       "    </tr>\n",
       "    <tr>\n",
       "      <th>2</th>\n",
       "      <td>2</td>\n",
       "      <td>NCT04116125</td>\n",
       "      <td>Omitting Biopsy of SEntinel Lymph Node With Ra...</td>\n",
       "      <td>https://clinicaltrials.gov/study/NCT04116125</td>\n",
       "      <td>OBSERB</td>\n",
       "      <td>NOT_YET_RECRUITING</td>\n",
       "      <td>The OBSERB study is a multi-center, non-blinde...</td>\n",
       "      <td>NO</td>\n",
       "      <td>Breast Neoplasm Female|Lymphatic Metastasis</td>\n",
       "      <td>PROCEDURE: Radiotherapy</td>\n",
       "      <td>...</td>\n",
       "      <td>2019-09-023</td>\n",
       "      <td>2020-07-01</td>\n",
       "      <td>2023-06-30</td>\n",
       "      <td>2025-06-30</td>\n",
       "      <td>2019-10-04</td>\n",
       "      <td>NaN</td>\n",
       "      <td>2019-10-04</td>\n",
       "      <td>NaN</td>\n",
       "      <td>NaN</td>\n",
       "      <td>Cancer-studies</td>\n",
       "    </tr>\n",
       "    <tr>\n",
       "      <th>3</th>\n",
       "      <td>3</td>\n",
       "      <td>NCT03566225</td>\n",
       "      <td>Pioglitazone Versus Metformin as First Treatme...</td>\n",
       "      <td>https://clinicaltrials.gov/study/NCT03566225</td>\n",
       "      <td>NaN</td>\n",
       "      <td>COMPLETED</td>\n",
       "      <td>Participants with PCOS will be divided into tw...</td>\n",
       "      <td>NO</td>\n",
       "      <td>Pioglitazone</td>\n",
       "      <td>DRUG: Pioglitazone|DRUG: Metformin|DRUG: Clomi...</td>\n",
       "      <td>...</td>\n",
       "      <td>AinShamaU</td>\n",
       "      <td>2018-01-30</td>\n",
       "      <td>2021-02-28</td>\n",
       "      <td>2021-03-30</td>\n",
       "      <td>2018-06-25</td>\n",
       "      <td>NaN</td>\n",
       "      <td>2021-06-02</td>\n",
       "      <td>Ain Shams Univerisity, Cairo, Egypt</td>\n",
       "      <td>NaN</td>\n",
       "      <td>Cancer-studies</td>\n",
       "    </tr>\n",
       "    <tr>\n",
       "      <th>4</th>\n",
       "      <td>4</td>\n",
       "      <td>NCT01756625</td>\n",
       "      <td>PREMIUM, Observational Study</td>\n",
       "      <td>https://clinicaltrials.gov/study/NCT01756625</td>\n",
       "      <td>NaN</td>\n",
       "      <td>UNKNOWN</td>\n",
       "      <td>PREMIUM is an observational pharmaco-epidemiol...</td>\n",
       "      <td>NO</td>\n",
       "      <td>First Line WT KRAS mCRC</td>\n",
       "      <td>NaN</td>\n",
       "      <td>...</td>\n",
       "      <td>PREMIUM</td>\n",
       "      <td>2010-01</td>\n",
       "      <td>2012-03</td>\n",
       "      <td>2013-06</td>\n",
       "      <td>2012-12-27</td>\n",
       "      <td>NaN</td>\n",
       "      <td>2012-12-27</td>\n",
       "      <td>Institut Sainte-Catherine, Avignon, Vaucluse, ...</td>\n",
       "      <td>NaN</td>\n",
       "      <td>Cancer-studies</td>\n",
       "    </tr>\n",
       "  </tbody>\n",
       "</table>\n",
       "<p>5 rows × 32 columns</p>\n",
       "</div>"
      ],
      "text/plain": [
       "   Unnamed: 0   NCT Number                                        Study Title  \\\n",
       "0           0  NCT02426125  A Study of Ramucirumab (LY3009806) Plus Doceta...   \n",
       "1           1  NCT04910425  PSMA-Targeted 18F-DCFPyL PET/MRI for the Detec...   \n",
       "2           2  NCT04116125  Omitting Biopsy of SEntinel Lymph Node With Ra...   \n",
       "3           3  NCT03566225  Pioglitazone Versus Metformin as First Treatme...   \n",
       "4           4  NCT01756625                       PREMIUM, Observational Study   \n",
       "\n",
       "                                      Study URL Acronym        Study Status  \\\n",
       "0  https://clinicaltrials.gov/study/NCT02426125   RANGE           COMPLETED   \n",
       "1  https://clinicaltrials.gov/study/NCT04910425     NaN  NOT_YET_RECRUITING   \n",
       "2  https://clinicaltrials.gov/study/NCT04116125  OBSERB  NOT_YET_RECRUITING   \n",
       "3  https://clinicaltrials.gov/study/NCT03566225     NaN           COMPLETED   \n",
       "4  https://clinicaltrials.gov/study/NCT01756625     NaN             UNKNOWN   \n",
       "\n",
       "                                       Brief Summary Study Results  \\\n",
       "0  The main purpose of this study is to evaluate ...           YES   \n",
       "1  This phase II trial studies how well 18F-DCFPy...            NO   \n",
       "2  The OBSERB study is a multi-center, non-blinde...            NO   \n",
       "3  Participants with PCOS will be divided into tw...            NO   \n",
       "4  PREMIUM is an observational pharmaco-epidemiol...            NO   \n",
       "\n",
       "                                    Conditions  \\\n",
       "0                         Urothelial Carcinoma   \n",
       "1                           Prostate Carcinoma   \n",
       "2  Breast Neoplasm Female|Lymphatic Metastasis   \n",
       "3                                 Pioglitazone   \n",
       "4                      First Line WT KRAS mCRC   \n",
       "\n",
       "                                       Interventions  ...  \\\n",
       "0    DRUG: Ramucirumab|DRUG: Docetaxel|DRUG: Placebo  ...   \n",
       "1  DRUG: Fluorine F 18 DCFPyL|DRUG: Gadobenate Di...  ...   \n",
       "2                            PROCEDURE: Radiotherapy  ...   \n",
       "3  DRUG: Pioglitazone|DRUG: Metformin|DRUG: Clomi...  ...   \n",
       "4                                                NaN  ...   \n",
       "\n",
       "                                           Other IDs  Start Date  \\\n",
       "0                   15679|I4T-MC-JVDC|2014-003655-66  2015-07-13   \n",
       "1  NU 19U05|NCI-2021-05593|STU00212326|NU 19U05|P...  2023-06-17   \n",
       "2                                        2019-09-023  2020-07-01   \n",
       "3                                          AinShamaU  2018-01-30   \n",
       "4                                            PREMIUM     2010-01   \n",
       "\n",
       "  Primary Completion Date Completion Date First Posted Results First Posted  \\\n",
       "0              2017-04-21      2022-07-26   2015-04-24           2019-01-25   \n",
       "1              2026-06-17         2028-07   2021-06-02                  NaN   \n",
       "2              2023-06-30      2025-06-30   2019-10-04                  NaN   \n",
       "3              2021-02-28      2021-03-30   2018-06-25                  NaN   \n",
       "4                 2012-03         2013-06   2012-12-27                  NaN   \n",
       "\n",
       "  Last Update Posted                                          Locations  \\\n",
       "0         2023-08-21  Highlands Oncology Group, Fayetteville, Arkans...   \n",
       "1         2022-08-03  Northwestern University, Chicago, Illinois, 60...   \n",
       "2         2019-10-04                                                NaN   \n",
       "3         2021-06-02                Ain Shams Univerisity, Cairo, Egypt   \n",
       "4         2012-12-27  Institut Sainte-Catherine, Avignon, Vaucluse, ...   \n",
       "\n",
       "                            Study Documents            Type  \n",
       "0  Study Protocol|Statistical Analysis Plan  Cancer-studies  \n",
       "1                                       NaN  Cancer-studies  \n",
       "2                                       NaN  Cancer-studies  \n",
       "3                                       NaN  Cancer-studies  \n",
       "4                                       NaN  Cancer-studies  \n",
       "\n",
       "[5 rows x 32 columns]"
      ]
     },
     "execution_count": 10,
     "metadata": {},
     "output_type": "execute_result"
    }
   ],
   "source": [
    "import os\n",
    "import pandas as pd\n",
    "import plotly_express as px\n",
    "# read the combined dataset\n",
    "df = pd.read_excel('Outputs/FinalDataset.xlsx')\n",
    "colors  = ['#BC5308', '#FFECD1', '#C5CAB8', '#FF7D00', '#8AA79F', '#FFB569', '#15616D', '#001524']\n",
    "df.head()"
   ]
  },
  {
   "cell_type": "code",
   "execution_count": 4,
   "metadata": {},
   "outputs": [
    {
     "name": "stdout",
     "output_type": "stream",
     "text": [
      "<class 'pandas.core.frame.DataFrame'>\n",
      "RangeIndex: 161863 entries, 0 to 161862\n",
      "Data columns (total 32 columns):\n",
      " #   Column                      Non-Null Count   Dtype  \n",
      "---  ------                      --------------   -----  \n",
      " 0   Unnamed: 0                  161863 non-null  int64  \n",
      " 1   NCT Number                  161863 non-null  object \n",
      " 2   Study Title                 161863 non-null  object \n",
      " 3   Study URL                   161863 non-null  object \n",
      " 4   Acronym                     48532 non-null   object \n",
      " 5   Study Status                161863 non-null  object \n",
      " 6   Brief Summary               161863 non-null  object \n",
      " 7   Study Results               161863 non-null  object \n",
      " 8   Conditions                  161857 non-null  object \n",
      " 9   Interventions               144610 non-null  object \n",
      " 10  Primary Outcome Measures    153676 non-null  object \n",
      " 11  Secondary Outcome Measures  119675 non-null  object \n",
      " 12  Other Outcome Measures      13107 non-null   object \n",
      " 13  Sponsor                     161863 non-null  object \n",
      " 14  Collaborators               60820 non-null   object \n",
      " 15  Sex                         161698 non-null  object \n",
      " 16  Age                         161863 non-null  object \n",
      " 17  Phases                      81391 non-null   object \n",
      " 18  Enrollment                  158394 non-null  float64\n",
      " 19  Funder Type                 161863 non-null  object \n",
      " 20  Study Type                  161863 non-null  object \n",
      " 21  Study Design                161364 non-null  object \n",
      " 22  Other IDs                   161842 non-null  object \n",
      " 23  Start Date                  159507 non-null  object \n",
      " 24  Primary Completion Date     153528 non-null  object \n",
      " 25  Completion Date             154539 non-null  object \n",
      " 26  First Posted                161863 non-null  object \n",
      " 27  Results First Posted        19813 non-null   object \n",
      " 28  Last Update Posted          161863 non-null  object \n",
      " 29  Locations                   147632 non-null  object \n",
      " 30  Study Documents             10570 non-null   object \n",
      " 31  Type                        161863 non-null  object \n",
      "dtypes: float64(1), int64(1), object(30)\n",
      "memory usage: 39.5+ MB\n"
     ]
    }
   ],
   "source": [
    "# check the type of data that we have\n",
    "df.info() #enrollment is the only numeric data that we have the rest are text based \n",
    "# The study title and the URL and acronymes are just metadata that give more information about the clinical trials that are undergoing"
   ]
  },
  {
   "cell_type": "markdown",
   "metadata": {},
   "source": [
    "# Univariate analysis"
   ]
  },
  {
   "cell_type": "code",
   "execution_count": 26,
   "metadata": {},
   "outputs": [
    {
     "data": {
      "application/vnd.plotly.v1+json": {
       "config": {
        "plotlyServerURL": "https://plot.ly"
       },
       "data": [
        {
         "alignmentgroup": "True",
         "hovertemplate": "Count=%{text}<br>Type=%{y}<extra></extra>",
         "legendgroup": "",
         "marker": {
          "color": "#BC5308",
          "pattern": {
           "shape": ""
          }
         },
         "name": "",
         "offsetgroup": "",
         "orientation": "h",
         "showlegend": false,
         "text": [
          100262,
          32176,
          9640,
          9342,
          9113,
          1330
         ],
         "textposition": "inside",
         "type": "bar",
         "x": [
          100262,
          32176,
          9640,
          9342,
          9113,
          1330
         ],
         "xaxis": "x",
         "y": [
          "Cancer-studies",
          "Heart",
          "Pneumonia-studies",
          "Covid 19-studies",
          "HIV-studies",
          "Malaria-studies"
         ],
         "yaxis": "y"
        }
       ],
       "layout": {
        "barmode": "relative",
        "legend": {
         "tracegroupgap": 0
        },
        "margin": {
         "t": 60
        },
        "template": {
         "data": {
          "bar": [
           {
            "error_x": {
             "color": "#2a3f5f"
            },
            "error_y": {
             "color": "#2a3f5f"
            },
            "marker": {
             "line": {
              "color": "white",
              "width": 0.5
             },
             "pattern": {
              "fillmode": "overlay",
              "size": 10,
              "solidity": 0.2
             }
            },
            "type": "bar"
           }
          ],
          "barpolar": [
           {
            "marker": {
             "line": {
              "color": "white",
              "width": 0.5
             },
             "pattern": {
              "fillmode": "overlay",
              "size": 10,
              "solidity": 0.2
             }
            },
            "type": "barpolar"
           }
          ],
          "carpet": [
           {
            "aaxis": {
             "endlinecolor": "#2a3f5f",
             "gridcolor": "#C8D4E3",
             "linecolor": "#C8D4E3",
             "minorgridcolor": "#C8D4E3",
             "startlinecolor": "#2a3f5f"
            },
            "baxis": {
             "endlinecolor": "#2a3f5f",
             "gridcolor": "#C8D4E3",
             "linecolor": "#C8D4E3",
             "minorgridcolor": "#C8D4E3",
             "startlinecolor": "#2a3f5f"
            },
            "type": "carpet"
           }
          ],
          "choropleth": [
           {
            "colorbar": {
             "outlinewidth": 0,
             "ticks": ""
            },
            "type": "choropleth"
           }
          ],
          "contour": [
           {
            "colorbar": {
             "outlinewidth": 0,
             "ticks": ""
            },
            "colorscale": [
             [
              0,
              "#0d0887"
             ],
             [
              0.1111111111111111,
              "#46039f"
             ],
             [
              0.2222222222222222,
              "#7201a8"
             ],
             [
              0.3333333333333333,
              "#9c179e"
             ],
             [
              0.4444444444444444,
              "#bd3786"
             ],
             [
              0.5555555555555556,
              "#d8576b"
             ],
             [
              0.6666666666666666,
              "#ed7953"
             ],
             [
              0.7777777777777778,
              "#fb9f3a"
             ],
             [
              0.8888888888888888,
              "#fdca26"
             ],
             [
              1,
              "#f0f921"
             ]
            ],
            "type": "contour"
           }
          ],
          "contourcarpet": [
           {
            "colorbar": {
             "outlinewidth": 0,
             "ticks": ""
            },
            "type": "contourcarpet"
           }
          ],
          "heatmap": [
           {
            "colorbar": {
             "outlinewidth": 0,
             "ticks": ""
            },
            "colorscale": [
             [
              0,
              "#0d0887"
             ],
             [
              0.1111111111111111,
              "#46039f"
             ],
             [
              0.2222222222222222,
              "#7201a8"
             ],
             [
              0.3333333333333333,
              "#9c179e"
             ],
             [
              0.4444444444444444,
              "#bd3786"
             ],
             [
              0.5555555555555556,
              "#d8576b"
             ],
             [
              0.6666666666666666,
              "#ed7953"
             ],
             [
              0.7777777777777778,
              "#fb9f3a"
             ],
             [
              0.8888888888888888,
              "#fdca26"
             ],
             [
              1,
              "#f0f921"
             ]
            ],
            "type": "heatmap"
           }
          ],
          "heatmapgl": [
           {
            "colorbar": {
             "outlinewidth": 0,
             "ticks": ""
            },
            "colorscale": [
             [
              0,
              "#0d0887"
             ],
             [
              0.1111111111111111,
              "#46039f"
             ],
             [
              0.2222222222222222,
              "#7201a8"
             ],
             [
              0.3333333333333333,
              "#9c179e"
             ],
             [
              0.4444444444444444,
              "#bd3786"
             ],
             [
              0.5555555555555556,
              "#d8576b"
             ],
             [
              0.6666666666666666,
              "#ed7953"
             ],
             [
              0.7777777777777778,
              "#fb9f3a"
             ],
             [
              0.8888888888888888,
              "#fdca26"
             ],
             [
              1,
              "#f0f921"
             ]
            ],
            "type": "heatmapgl"
           }
          ],
          "histogram": [
           {
            "marker": {
             "pattern": {
              "fillmode": "overlay",
              "size": 10,
              "solidity": 0.2
             }
            },
            "type": "histogram"
           }
          ],
          "histogram2d": [
           {
            "colorbar": {
             "outlinewidth": 0,
             "ticks": ""
            },
            "colorscale": [
             [
              0,
              "#0d0887"
             ],
             [
              0.1111111111111111,
              "#46039f"
             ],
             [
              0.2222222222222222,
              "#7201a8"
             ],
             [
              0.3333333333333333,
              "#9c179e"
             ],
             [
              0.4444444444444444,
              "#bd3786"
             ],
             [
              0.5555555555555556,
              "#d8576b"
             ],
             [
              0.6666666666666666,
              "#ed7953"
             ],
             [
              0.7777777777777778,
              "#fb9f3a"
             ],
             [
              0.8888888888888888,
              "#fdca26"
             ],
             [
              1,
              "#f0f921"
             ]
            ],
            "type": "histogram2d"
           }
          ],
          "histogram2dcontour": [
           {
            "colorbar": {
             "outlinewidth": 0,
             "ticks": ""
            },
            "colorscale": [
             [
              0,
              "#0d0887"
             ],
             [
              0.1111111111111111,
              "#46039f"
             ],
             [
              0.2222222222222222,
              "#7201a8"
             ],
             [
              0.3333333333333333,
              "#9c179e"
             ],
             [
              0.4444444444444444,
              "#bd3786"
             ],
             [
              0.5555555555555556,
              "#d8576b"
             ],
             [
              0.6666666666666666,
              "#ed7953"
             ],
             [
              0.7777777777777778,
              "#fb9f3a"
             ],
             [
              0.8888888888888888,
              "#fdca26"
             ],
             [
              1,
              "#f0f921"
             ]
            ],
            "type": "histogram2dcontour"
           }
          ],
          "mesh3d": [
           {
            "colorbar": {
             "outlinewidth": 0,
             "ticks": ""
            },
            "type": "mesh3d"
           }
          ],
          "parcoords": [
           {
            "line": {
             "colorbar": {
              "outlinewidth": 0,
              "ticks": ""
             }
            },
            "type": "parcoords"
           }
          ],
          "pie": [
           {
            "automargin": true,
            "type": "pie"
           }
          ],
          "scatter": [
           {
            "fillpattern": {
             "fillmode": "overlay",
             "size": 10,
             "solidity": 0.2
            },
            "type": "scatter"
           }
          ],
          "scatter3d": [
           {
            "line": {
             "colorbar": {
              "outlinewidth": 0,
              "ticks": ""
             }
            },
            "marker": {
             "colorbar": {
              "outlinewidth": 0,
              "ticks": ""
             }
            },
            "type": "scatter3d"
           }
          ],
          "scattercarpet": [
           {
            "marker": {
             "colorbar": {
              "outlinewidth": 0,
              "ticks": ""
             }
            },
            "type": "scattercarpet"
           }
          ],
          "scattergeo": [
           {
            "marker": {
             "colorbar": {
              "outlinewidth": 0,
              "ticks": ""
             }
            },
            "type": "scattergeo"
           }
          ],
          "scattergl": [
           {
            "marker": {
             "colorbar": {
              "outlinewidth": 0,
              "ticks": ""
             }
            },
            "type": "scattergl"
           }
          ],
          "scattermapbox": [
           {
            "marker": {
             "colorbar": {
              "outlinewidth": 0,
              "ticks": ""
             }
            },
            "type": "scattermapbox"
           }
          ],
          "scatterpolar": [
           {
            "marker": {
             "colorbar": {
              "outlinewidth": 0,
              "ticks": ""
             }
            },
            "type": "scatterpolar"
           }
          ],
          "scatterpolargl": [
           {
            "marker": {
             "colorbar": {
              "outlinewidth": 0,
              "ticks": ""
             }
            },
            "type": "scatterpolargl"
           }
          ],
          "scatterternary": [
           {
            "marker": {
             "colorbar": {
              "outlinewidth": 0,
              "ticks": ""
             }
            },
            "type": "scatterternary"
           }
          ],
          "surface": [
           {
            "colorbar": {
             "outlinewidth": 0,
             "ticks": ""
            },
            "colorscale": [
             [
              0,
              "#0d0887"
             ],
             [
              0.1111111111111111,
              "#46039f"
             ],
             [
              0.2222222222222222,
              "#7201a8"
             ],
             [
              0.3333333333333333,
              "#9c179e"
             ],
             [
              0.4444444444444444,
              "#bd3786"
             ],
             [
              0.5555555555555556,
              "#d8576b"
             ],
             [
              0.6666666666666666,
              "#ed7953"
             ],
             [
              0.7777777777777778,
              "#fb9f3a"
             ],
             [
              0.8888888888888888,
              "#fdca26"
             ],
             [
              1,
              "#f0f921"
             ]
            ],
            "type": "surface"
           }
          ],
          "table": [
           {
            "cells": {
             "fill": {
              "color": "#EBF0F8"
             },
             "line": {
              "color": "white"
             }
            },
            "header": {
             "fill": {
              "color": "#C8D4E3"
             },
             "line": {
              "color": "white"
             }
            },
            "type": "table"
           }
          ]
         },
         "layout": {
          "annotationdefaults": {
           "arrowcolor": "#2a3f5f",
           "arrowhead": 0,
           "arrowwidth": 1
          },
          "autotypenumbers": "strict",
          "coloraxis": {
           "colorbar": {
            "outlinewidth": 0,
            "ticks": ""
           }
          },
          "colorscale": {
           "diverging": [
            [
             0,
             "#8e0152"
            ],
            [
             0.1,
             "#c51b7d"
            ],
            [
             0.2,
             "#de77ae"
            ],
            [
             0.3,
             "#f1b6da"
            ],
            [
             0.4,
             "#fde0ef"
            ],
            [
             0.5,
             "#f7f7f7"
            ],
            [
             0.6,
             "#e6f5d0"
            ],
            [
             0.7,
             "#b8e186"
            ],
            [
             0.8,
             "#7fbc41"
            ],
            [
             0.9,
             "#4d9221"
            ],
            [
             1,
             "#276419"
            ]
           ],
           "sequential": [
            [
             0,
             "#0d0887"
            ],
            [
             0.1111111111111111,
             "#46039f"
            ],
            [
             0.2222222222222222,
             "#7201a8"
            ],
            [
             0.3333333333333333,
             "#9c179e"
            ],
            [
             0.4444444444444444,
             "#bd3786"
            ],
            [
             0.5555555555555556,
             "#d8576b"
            ],
            [
             0.6666666666666666,
             "#ed7953"
            ],
            [
             0.7777777777777778,
             "#fb9f3a"
            ],
            [
             0.8888888888888888,
             "#fdca26"
            ],
            [
             1,
             "#f0f921"
            ]
           ],
           "sequentialminus": [
            [
             0,
             "#0d0887"
            ],
            [
             0.1111111111111111,
             "#46039f"
            ],
            [
             0.2222222222222222,
             "#7201a8"
            ],
            [
             0.3333333333333333,
             "#9c179e"
            ],
            [
             0.4444444444444444,
             "#bd3786"
            ],
            [
             0.5555555555555556,
             "#d8576b"
            ],
            [
             0.6666666666666666,
             "#ed7953"
            ],
            [
             0.7777777777777778,
             "#fb9f3a"
            ],
            [
             0.8888888888888888,
             "#fdca26"
            ],
            [
             1,
             "#f0f921"
            ]
           ]
          },
          "colorway": [
           "#636efa",
           "#EF553B",
           "#00cc96",
           "#ab63fa",
           "#FFA15A",
           "#19d3f3",
           "#FF6692",
           "#B6E880",
           "#FF97FF",
           "#FECB52"
          ],
          "font": {
           "color": "#2a3f5f"
          },
          "geo": {
           "bgcolor": "white",
           "lakecolor": "white",
           "landcolor": "white",
           "showlakes": true,
           "showland": true,
           "subunitcolor": "#C8D4E3"
          },
          "hoverlabel": {
           "align": "left"
          },
          "hovermode": "closest",
          "mapbox": {
           "style": "light"
          },
          "paper_bgcolor": "white",
          "plot_bgcolor": "white",
          "polar": {
           "angularaxis": {
            "gridcolor": "#EBF0F8",
            "linecolor": "#EBF0F8",
            "ticks": ""
           },
           "bgcolor": "white",
           "radialaxis": {
            "gridcolor": "#EBF0F8",
            "linecolor": "#EBF0F8",
            "ticks": ""
           }
          },
          "scene": {
           "xaxis": {
            "backgroundcolor": "white",
            "gridcolor": "#DFE8F3",
            "gridwidth": 2,
            "linecolor": "#EBF0F8",
            "showbackground": true,
            "ticks": "",
            "zerolinecolor": "#EBF0F8"
           },
           "yaxis": {
            "backgroundcolor": "white",
            "gridcolor": "#DFE8F3",
            "gridwidth": 2,
            "linecolor": "#EBF0F8",
            "showbackground": true,
            "ticks": "",
            "zerolinecolor": "#EBF0F8"
           },
           "zaxis": {
            "backgroundcolor": "white",
            "gridcolor": "#DFE8F3",
            "gridwidth": 2,
            "linecolor": "#EBF0F8",
            "showbackground": true,
            "ticks": "",
            "zerolinecolor": "#EBF0F8"
           }
          },
          "shapedefaults": {
           "line": {
            "color": "#2a3f5f"
           }
          },
          "ternary": {
           "aaxis": {
            "gridcolor": "#DFE8F3",
            "linecolor": "#A2B1C6",
            "ticks": ""
           },
           "baxis": {
            "gridcolor": "#DFE8F3",
            "linecolor": "#A2B1C6",
            "ticks": ""
           },
           "bgcolor": "white",
           "caxis": {
            "gridcolor": "#DFE8F3",
            "linecolor": "#A2B1C6",
            "ticks": ""
           }
          },
          "title": {
           "x": 0.05
          },
          "xaxis": {
           "automargin": true,
           "gridcolor": "#EBF0F8",
           "linecolor": "#EBF0F8",
           "ticks": "",
           "title": {
            "standoff": 15
           },
           "zerolinecolor": "#EBF0F8",
           "zerolinewidth": 2
          },
          "yaxis": {
           "automargin": true,
           "gridcolor": "#EBF0F8",
           "linecolor": "#EBF0F8",
           "ticks": "",
           "title": {
            "standoff": 15
           },
           "zerolinecolor": "#EBF0F8",
           "zerolinewidth": 2
          }
         }
        },
        "title": {
         "text": "The distribution of each study in the dataset",
         "x": 0.5,
         "y": 0.95
        },
        "xaxis": {
         "anchor": "y",
         "domain": [
          0,
          1
         ],
         "title": {
          "text": "Count"
         }
        },
        "yaxis": {
         "anchor": "x",
         "domain": [
          0,
          1
         ],
         "title": {
          "text": "Type"
         }
        }
       }
      }
     },
     "metadata": {},
     "output_type": "display_data"
    }
   ],
   "source": [
    "\n",
    "\n",
    "# Assuming 'df' is your DataFrame\n",
    "type_counts = df['Type'].value_counts().reset_index()\n",
    "type_counts.columns = ['Type', 'Count']\n",
    "\n",
    "fig = px.bar(type_counts, x='Count', y='Type', text='Count', orientation='h',color_discrete_sequence=colors, template='plotly_white',)\n",
    "\n",
    "fig.update_traces(textposition='inside')\n",
    "fig.update_layout(xaxis_title='Count', yaxis_title='Type', title='Counts of Each Type')\n",
    "fig.update_layout(title_text='The distribution of each study in the dataset', title_x=0.5, title_y=0.95)\n",
    "fig.show()\n"
   ]
  },
  {
   "cell_type": "code",
   "execution_count": 48,
   "metadata": {},
   "outputs": [
    {
     "data": {
      "text/html": [
       "<div>\n",
       "<style scoped>\n",
       "    .dataframe tbody tr th:only-of-type {\n",
       "        vertical-align: middle;\n",
       "    }\n",
       "\n",
       "    .dataframe tbody tr th {\n",
       "        vertical-align: top;\n",
       "    }\n",
       "\n",
       "    .dataframe thead th {\n",
       "        text-align: right;\n",
       "    }\n",
       "</style>\n",
       "<table border=\"1\" class=\"dataframe\">\n",
       "  <thead>\n",
       "    <tr style=\"text-align: right;\">\n",
       "      <th></th>\n",
       "      <th>index</th>\n",
       "      <th>Study Results</th>\n",
       "    </tr>\n",
       "  </thead>\n",
       "  <tbody>\n",
       "    <tr>\n",
       "      <th>0</th>\n",
       "      <td>NO</td>\n",
       "      <td>142050</td>\n",
       "    </tr>\n",
       "    <tr>\n",
       "      <th>1</th>\n",
       "      <td>YES</td>\n",
       "      <td>19813</td>\n",
       "    </tr>\n",
       "  </tbody>\n",
       "</table>\n",
       "</div>"
      ],
      "text/plain": [
       "  index  Study Results\n",
       "0    NO         142050\n",
       "1   YES          19813"
      ]
     },
     "metadata": {},
     "output_type": "display_data"
    },
    {
     "data": {
      "application/vnd.plotly.v1+json": {
       "config": {
        "plotlyServerURL": "https://plot.ly"
       },
       "data": [
        {
         "alignmentgroup": "True",
         "hovertemplate": "Study Results=NO<br>Type=%{x}<br>n=%{y}<extra></extra>",
         "legendgroup": "NO",
         "marker": {
          "color": "#BC5308",
          "pattern": {
           "shape": ""
          }
         },
         "name": "NO",
         "offsetgroup": "NO",
         "orientation": "v",
         "showlegend": true,
         "textposition": "auto",
         "type": "bar",
         "x": [
          "Cancer-studies",
          "Covid 19-studies",
          "HIV-studies",
          "Heart",
          "Malaria-studies",
          "Pneumonia-studies"
         ],
         "xaxis": "x",
         "y": [
          86209,
          8861,
          7715,
          29100,
          1178,
          8987
         ],
         "yaxis": "y"
        },
        {
         "alignmentgroup": "True",
         "hovertemplate": "Study Results=YES<br>Type=%{x}<br>n=%{y}<extra></extra>",
         "legendgroup": "YES",
         "marker": {
          "color": "#001524",
          "pattern": {
           "shape": ""
          }
         },
         "name": "YES",
         "offsetgroup": "YES",
         "orientation": "v",
         "showlegend": true,
         "textposition": "auto",
         "type": "bar",
         "x": [
          "Cancer-studies",
          "Covid 19-studies",
          "HIV-studies",
          "Heart",
          "Malaria-studies",
          "Pneumonia-studies"
         ],
         "xaxis": "x",
         "y": [
          14053,
          481,
          1398,
          3076,
          152,
          653
         ],
         "yaxis": "y"
        }
       ],
       "layout": {
        "barmode": "relative",
        "legend": {
         "title": {
          "text": "Study Results"
         },
         "tracegroupgap": 0
        },
        "margin": {
         "t": 60
        },
        "template": {
         "data": {
          "bar": [
           {
            "error_x": {
             "color": "#2a3f5f"
            },
            "error_y": {
             "color": "#2a3f5f"
            },
            "marker": {
             "line": {
              "color": "white",
              "width": 0.5
             },
             "pattern": {
              "fillmode": "overlay",
              "size": 10,
              "solidity": 0.2
             }
            },
            "type": "bar"
           }
          ],
          "barpolar": [
           {
            "marker": {
             "line": {
              "color": "white",
              "width": 0.5
             },
             "pattern": {
              "fillmode": "overlay",
              "size": 10,
              "solidity": 0.2
             }
            },
            "type": "barpolar"
           }
          ],
          "carpet": [
           {
            "aaxis": {
             "endlinecolor": "#2a3f5f",
             "gridcolor": "#C8D4E3",
             "linecolor": "#C8D4E3",
             "minorgridcolor": "#C8D4E3",
             "startlinecolor": "#2a3f5f"
            },
            "baxis": {
             "endlinecolor": "#2a3f5f",
             "gridcolor": "#C8D4E3",
             "linecolor": "#C8D4E3",
             "minorgridcolor": "#C8D4E3",
             "startlinecolor": "#2a3f5f"
            },
            "type": "carpet"
           }
          ],
          "choropleth": [
           {
            "colorbar": {
             "outlinewidth": 0,
             "ticks": ""
            },
            "type": "choropleth"
           }
          ],
          "contour": [
           {
            "colorbar": {
             "outlinewidth": 0,
             "ticks": ""
            },
            "colorscale": [
             [
              0,
              "#0d0887"
             ],
             [
              0.1111111111111111,
              "#46039f"
             ],
             [
              0.2222222222222222,
              "#7201a8"
             ],
             [
              0.3333333333333333,
              "#9c179e"
             ],
             [
              0.4444444444444444,
              "#bd3786"
             ],
             [
              0.5555555555555556,
              "#d8576b"
             ],
             [
              0.6666666666666666,
              "#ed7953"
             ],
             [
              0.7777777777777778,
              "#fb9f3a"
             ],
             [
              0.8888888888888888,
              "#fdca26"
             ],
             [
              1,
              "#f0f921"
             ]
            ],
            "type": "contour"
           }
          ],
          "contourcarpet": [
           {
            "colorbar": {
             "outlinewidth": 0,
             "ticks": ""
            },
            "type": "contourcarpet"
           }
          ],
          "heatmap": [
           {
            "colorbar": {
             "outlinewidth": 0,
             "ticks": ""
            },
            "colorscale": [
             [
              0,
              "#0d0887"
             ],
             [
              0.1111111111111111,
              "#46039f"
             ],
             [
              0.2222222222222222,
              "#7201a8"
             ],
             [
              0.3333333333333333,
              "#9c179e"
             ],
             [
              0.4444444444444444,
              "#bd3786"
             ],
             [
              0.5555555555555556,
              "#d8576b"
             ],
             [
              0.6666666666666666,
              "#ed7953"
             ],
             [
              0.7777777777777778,
              "#fb9f3a"
             ],
             [
              0.8888888888888888,
              "#fdca26"
             ],
             [
              1,
              "#f0f921"
             ]
            ],
            "type": "heatmap"
           }
          ],
          "heatmapgl": [
           {
            "colorbar": {
             "outlinewidth": 0,
             "ticks": ""
            },
            "colorscale": [
             [
              0,
              "#0d0887"
             ],
             [
              0.1111111111111111,
              "#46039f"
             ],
             [
              0.2222222222222222,
              "#7201a8"
             ],
             [
              0.3333333333333333,
              "#9c179e"
             ],
             [
              0.4444444444444444,
              "#bd3786"
             ],
             [
              0.5555555555555556,
              "#d8576b"
             ],
             [
              0.6666666666666666,
              "#ed7953"
             ],
             [
              0.7777777777777778,
              "#fb9f3a"
             ],
             [
              0.8888888888888888,
              "#fdca26"
             ],
             [
              1,
              "#f0f921"
             ]
            ],
            "type": "heatmapgl"
           }
          ],
          "histogram": [
           {
            "marker": {
             "pattern": {
              "fillmode": "overlay",
              "size": 10,
              "solidity": 0.2
             }
            },
            "type": "histogram"
           }
          ],
          "histogram2d": [
           {
            "colorbar": {
             "outlinewidth": 0,
             "ticks": ""
            },
            "colorscale": [
             [
              0,
              "#0d0887"
             ],
             [
              0.1111111111111111,
              "#46039f"
             ],
             [
              0.2222222222222222,
              "#7201a8"
             ],
             [
              0.3333333333333333,
              "#9c179e"
             ],
             [
              0.4444444444444444,
              "#bd3786"
             ],
             [
              0.5555555555555556,
              "#d8576b"
             ],
             [
              0.6666666666666666,
              "#ed7953"
             ],
             [
              0.7777777777777778,
              "#fb9f3a"
             ],
             [
              0.8888888888888888,
              "#fdca26"
             ],
             [
              1,
              "#f0f921"
             ]
            ],
            "type": "histogram2d"
           }
          ],
          "histogram2dcontour": [
           {
            "colorbar": {
             "outlinewidth": 0,
             "ticks": ""
            },
            "colorscale": [
             [
              0,
              "#0d0887"
             ],
             [
              0.1111111111111111,
              "#46039f"
             ],
             [
              0.2222222222222222,
              "#7201a8"
             ],
             [
              0.3333333333333333,
              "#9c179e"
             ],
             [
              0.4444444444444444,
              "#bd3786"
             ],
             [
              0.5555555555555556,
              "#d8576b"
             ],
             [
              0.6666666666666666,
              "#ed7953"
             ],
             [
              0.7777777777777778,
              "#fb9f3a"
             ],
             [
              0.8888888888888888,
              "#fdca26"
             ],
             [
              1,
              "#f0f921"
             ]
            ],
            "type": "histogram2dcontour"
           }
          ],
          "mesh3d": [
           {
            "colorbar": {
             "outlinewidth": 0,
             "ticks": ""
            },
            "type": "mesh3d"
           }
          ],
          "parcoords": [
           {
            "line": {
             "colorbar": {
              "outlinewidth": 0,
              "ticks": ""
             }
            },
            "type": "parcoords"
           }
          ],
          "pie": [
           {
            "automargin": true,
            "type": "pie"
           }
          ],
          "scatter": [
           {
            "fillpattern": {
             "fillmode": "overlay",
             "size": 10,
             "solidity": 0.2
            },
            "type": "scatter"
           }
          ],
          "scatter3d": [
           {
            "line": {
             "colorbar": {
              "outlinewidth": 0,
              "ticks": ""
             }
            },
            "marker": {
             "colorbar": {
              "outlinewidth": 0,
              "ticks": ""
             }
            },
            "type": "scatter3d"
           }
          ],
          "scattercarpet": [
           {
            "marker": {
             "colorbar": {
              "outlinewidth": 0,
              "ticks": ""
             }
            },
            "type": "scattercarpet"
           }
          ],
          "scattergeo": [
           {
            "marker": {
             "colorbar": {
              "outlinewidth": 0,
              "ticks": ""
             }
            },
            "type": "scattergeo"
           }
          ],
          "scattergl": [
           {
            "marker": {
             "colorbar": {
              "outlinewidth": 0,
              "ticks": ""
             }
            },
            "type": "scattergl"
           }
          ],
          "scattermapbox": [
           {
            "marker": {
             "colorbar": {
              "outlinewidth": 0,
              "ticks": ""
             }
            },
            "type": "scattermapbox"
           }
          ],
          "scatterpolar": [
           {
            "marker": {
             "colorbar": {
              "outlinewidth": 0,
              "ticks": ""
             }
            },
            "type": "scatterpolar"
           }
          ],
          "scatterpolargl": [
           {
            "marker": {
             "colorbar": {
              "outlinewidth": 0,
              "ticks": ""
             }
            },
            "type": "scatterpolargl"
           }
          ],
          "scatterternary": [
           {
            "marker": {
             "colorbar": {
              "outlinewidth": 0,
              "ticks": ""
             }
            },
            "type": "scatterternary"
           }
          ],
          "surface": [
           {
            "colorbar": {
             "outlinewidth": 0,
             "ticks": ""
            },
            "colorscale": [
             [
              0,
              "#0d0887"
             ],
             [
              0.1111111111111111,
              "#46039f"
             ],
             [
              0.2222222222222222,
              "#7201a8"
             ],
             [
              0.3333333333333333,
              "#9c179e"
             ],
             [
              0.4444444444444444,
              "#bd3786"
             ],
             [
              0.5555555555555556,
              "#d8576b"
             ],
             [
              0.6666666666666666,
              "#ed7953"
             ],
             [
              0.7777777777777778,
              "#fb9f3a"
             ],
             [
              0.8888888888888888,
              "#fdca26"
             ],
             [
              1,
              "#f0f921"
             ]
            ],
            "type": "surface"
           }
          ],
          "table": [
           {
            "cells": {
             "fill": {
              "color": "#EBF0F8"
             },
             "line": {
              "color": "white"
             }
            },
            "header": {
             "fill": {
              "color": "#C8D4E3"
             },
             "line": {
              "color": "white"
             }
            },
            "type": "table"
           }
          ]
         },
         "layout": {
          "annotationdefaults": {
           "arrowcolor": "#2a3f5f",
           "arrowhead": 0,
           "arrowwidth": 1
          },
          "autotypenumbers": "strict",
          "coloraxis": {
           "colorbar": {
            "outlinewidth": 0,
            "ticks": ""
           }
          },
          "colorscale": {
           "diverging": [
            [
             0,
             "#8e0152"
            ],
            [
             0.1,
             "#c51b7d"
            ],
            [
             0.2,
             "#de77ae"
            ],
            [
             0.3,
             "#f1b6da"
            ],
            [
             0.4,
             "#fde0ef"
            ],
            [
             0.5,
             "#f7f7f7"
            ],
            [
             0.6,
             "#e6f5d0"
            ],
            [
             0.7,
             "#b8e186"
            ],
            [
             0.8,
             "#7fbc41"
            ],
            [
             0.9,
             "#4d9221"
            ],
            [
             1,
             "#276419"
            ]
           ],
           "sequential": [
            [
             0,
             "#0d0887"
            ],
            [
             0.1111111111111111,
             "#46039f"
            ],
            [
             0.2222222222222222,
             "#7201a8"
            ],
            [
             0.3333333333333333,
             "#9c179e"
            ],
            [
             0.4444444444444444,
             "#bd3786"
            ],
            [
             0.5555555555555556,
             "#d8576b"
            ],
            [
             0.6666666666666666,
             "#ed7953"
            ],
            [
             0.7777777777777778,
             "#fb9f3a"
            ],
            [
             0.8888888888888888,
             "#fdca26"
            ],
            [
             1,
             "#f0f921"
            ]
           ],
           "sequentialminus": [
            [
             0,
             "#0d0887"
            ],
            [
             0.1111111111111111,
             "#46039f"
            ],
            [
             0.2222222222222222,
             "#7201a8"
            ],
            [
             0.3333333333333333,
             "#9c179e"
            ],
            [
             0.4444444444444444,
             "#bd3786"
            ],
            [
             0.5555555555555556,
             "#d8576b"
            ],
            [
             0.6666666666666666,
             "#ed7953"
            ],
            [
             0.7777777777777778,
             "#fb9f3a"
            ],
            [
             0.8888888888888888,
             "#fdca26"
            ],
            [
             1,
             "#f0f921"
            ]
           ]
          },
          "colorway": [
           "#636efa",
           "#EF553B",
           "#00cc96",
           "#ab63fa",
           "#FFA15A",
           "#19d3f3",
           "#FF6692",
           "#B6E880",
           "#FF97FF",
           "#FECB52"
          ],
          "font": {
           "color": "#2a3f5f"
          },
          "geo": {
           "bgcolor": "white",
           "lakecolor": "white",
           "landcolor": "white",
           "showlakes": true,
           "showland": true,
           "subunitcolor": "#C8D4E3"
          },
          "hoverlabel": {
           "align": "left"
          },
          "hovermode": "closest",
          "mapbox": {
           "style": "light"
          },
          "paper_bgcolor": "white",
          "plot_bgcolor": "white",
          "polar": {
           "angularaxis": {
            "gridcolor": "#EBF0F8",
            "linecolor": "#EBF0F8",
            "ticks": ""
           },
           "bgcolor": "white",
           "radialaxis": {
            "gridcolor": "#EBF0F8",
            "linecolor": "#EBF0F8",
            "ticks": ""
           }
          },
          "scene": {
           "xaxis": {
            "backgroundcolor": "white",
            "gridcolor": "#DFE8F3",
            "gridwidth": 2,
            "linecolor": "#EBF0F8",
            "showbackground": true,
            "ticks": "",
            "zerolinecolor": "#EBF0F8"
           },
           "yaxis": {
            "backgroundcolor": "white",
            "gridcolor": "#DFE8F3",
            "gridwidth": 2,
            "linecolor": "#EBF0F8",
            "showbackground": true,
            "ticks": "",
            "zerolinecolor": "#EBF0F8"
           },
           "zaxis": {
            "backgroundcolor": "white",
            "gridcolor": "#DFE8F3",
            "gridwidth": 2,
            "linecolor": "#EBF0F8",
            "showbackground": true,
            "ticks": "",
            "zerolinecolor": "#EBF0F8"
           }
          },
          "shapedefaults": {
           "line": {
            "color": "#2a3f5f"
           }
          },
          "ternary": {
           "aaxis": {
            "gridcolor": "#DFE8F3",
            "linecolor": "#A2B1C6",
            "ticks": ""
           },
           "baxis": {
            "gridcolor": "#DFE8F3",
            "linecolor": "#A2B1C6",
            "ticks": ""
           },
           "bgcolor": "white",
           "caxis": {
            "gridcolor": "#DFE8F3",
            "linecolor": "#A2B1C6",
            "ticks": ""
           }
          },
          "title": {
           "x": 0.05
          },
          "xaxis": {
           "automargin": true,
           "gridcolor": "#EBF0F8",
           "linecolor": "#EBF0F8",
           "ticks": "",
           "title": {
            "standoff": 15
           },
           "zerolinecolor": "#EBF0F8",
           "zerolinewidth": 2
          },
          "yaxis": {
           "automargin": true,
           "gridcolor": "#EBF0F8",
           "linecolor": "#EBF0F8",
           "ticks": "",
           "title": {
            "standoff": 15
           },
           "zerolinecolor": "#EBF0F8",
           "zerolinewidth": 2
          }
         }
        },
        "title": {
         "text": "Does the study have results",
         "x": 0.5,
         "y": 0.95
        },
        "xaxis": {
         "anchor": "y",
         "domain": [
          0,
          1
         ],
         "title": {
          "text": "Type"
         }
        },
        "yaxis": {
         "anchor": "x",
         "domain": [
          0,
          1
         ],
         "title": {
          "text": "n"
         }
        }
       }
      }
     },
     "metadata": {},
     "output_type": "display_data"
    }
   ],
   "source": [
    "y = df['Study Results'].value_counts().reset_index()\n",
    "display(y) # the study results are just yes or no\n",
    "\n",
    "results  = df.groupby(['Study Results','Type']).size().reset_index().rename(columns = {0:'n'})\n",
    "fig = px.bar(results,x ='Type',y ='n',color = 'Study Results' ,color_discrete_sequence=colors[:1]+colors[-1:], template='plotly_white')\n",
    "fig.update_layout(title_text='Does the study have results', title_x=0.5, title_y=0.95)\n",
    "fig.show()\n",
    "\n"
   ]
  },
  {
   "cell_type": "code",
   "execution_count": 59,
   "metadata": {},
   "outputs": [
    {
     "data": {
      "text/html": [
       "<div>\n",
       "<style scoped>\n",
       "    .dataframe tbody tr th:only-of-type {\n",
       "        vertical-align: middle;\n",
       "    }\n",
       "\n",
       "    .dataframe tbody tr th {\n",
       "        vertical-align: top;\n",
       "    }\n",
       "\n",
       "    .dataframe thead th {\n",
       "        text-align: right;\n",
       "    }\n",
       "</style>\n",
       "<table border=\"1\" class=\"dataframe\">\n",
       "  <thead>\n",
       "    <tr style=\"text-align: right;\">\n",
       "      <th></th>\n",
       "      <th>Conditions</th>\n",
       "      <th>Type</th>\n",
       "      <th>n</th>\n",
       "    </tr>\n",
       "  </thead>\n",
       "  <tbody>\n",
       "    <tr>\n",
       "      <th>9935</th>\n",
       "      <td>Breast Cancer</td>\n",
       "      <td>Cancer-studies</td>\n",
       "      <td>4454</td>\n",
       "    </tr>\n",
       "    <tr>\n",
       "      <th>58527</th>\n",
       "      <td>Prostate Cancer</td>\n",
       "      <td>Cancer-studies</td>\n",
       "      <td>2603</td>\n",
       "    </tr>\n",
       "    <tr>\n",
       "      <th>33046</th>\n",
       "      <td>HIV Infections</td>\n",
       "      <td>HIV-studies</td>\n",
       "      <td>2092</td>\n",
       "    </tr>\n",
       "    <tr>\n",
       "      <th>23234</th>\n",
       "      <td>Coronary Artery Disease</td>\n",
       "      <td>Heart</td>\n",
       "      <td>1601</td>\n",
       "    </tr>\n",
       "    <tr>\n",
       "      <th>35684</th>\n",
       "      <td>Heart Failure</td>\n",
       "      <td>Heart</td>\n",
       "      <td>1489</td>\n",
       "    </tr>\n",
       "    <tr>\n",
       "      <th>12464</th>\n",
       "      <td>COVID-19</td>\n",
       "      <td>Covid 19-studies</td>\n",
       "      <td>1484</td>\n",
       "    </tr>\n",
       "    <tr>\n",
       "      <th>14417</th>\n",
       "      <td>Cancer</td>\n",
       "      <td>Cancer-studies</td>\n",
       "      <td>1433</td>\n",
       "    </tr>\n",
       "    <tr>\n",
       "      <th>21409</th>\n",
       "      <td>Colorectal Cancer</td>\n",
       "      <td>Cancer-studies</td>\n",
       "      <td>1396</td>\n",
       "    </tr>\n",
       "    <tr>\n",
       "      <th>12467</th>\n",
       "      <td>COVID-19</td>\n",
       "      <td>Pneumonia-studies</td>\n",
       "      <td>1380</td>\n",
       "    </tr>\n",
       "    <tr>\n",
       "      <th>43221</th>\n",
       "      <td>Lung Cancer</td>\n",
       "      <td>Cancer-studies</td>\n",
       "      <td>1371</td>\n",
       "    </tr>\n",
       "  </tbody>\n",
       "</table>\n",
       "</div>"
      ],
      "text/plain": [
       "                    Conditions               Type     n\n",
       "9935             Breast Cancer     Cancer-studies  4454\n",
       "58527          Prostate Cancer     Cancer-studies  2603\n",
       "33046           HIV Infections        HIV-studies  2092\n",
       "23234  Coronary Artery Disease              Heart  1601\n",
       "35684            Heart Failure              Heart  1489\n",
       "12464                 COVID-19   Covid 19-studies  1484\n",
       "14417                   Cancer     Cancer-studies  1433\n",
       "21409        Colorectal Cancer     Cancer-studies  1396\n",
       "12467                 COVID-19  Pneumonia-studies  1380\n",
       "43221              Lung Cancer     Cancer-studies  1371"
      ]
     },
     "execution_count": 59,
     "metadata": {},
     "output_type": "execute_result"
    }
   ],
   "source": [
    "cond = df.groupby(['Conditions','Type']).size().reset_index().rename(columns = {0:'n'}).sort_values('n',ascending=False)\n",
    "cond.head(10) # the top 10 conditions that are being studied"
   ]
  },
  {
   "cell_type": "markdown",
   "metadata": {},
   "source": [
    "# Analysis "
   ]
  },
  {
   "cell_type": "code",
   "execution_count": 66,
   "metadata": {},
   "outputs": [
    {
     "data": {
      "application/vnd.plotly.v1+json": {
       "config": {
        "plotlyServerURL": "https://plot.ly"
       },
       "data": [
        {
         "domain": {
          "x": [
           0,
           0.15
          ],
          "y": [
           0,
           1
          ]
         },
         "hole": 0.4,
         "hovertemplate": "Type=Cancer-studies<br>Study Status=%{label}<br>n=%{value}<extra></extra>",
         "labels": [
          "ACTIVE_NOT_RECRUITING",
          "APPROVED_FOR_MARKETING",
          "AVAILABLE",
          "COMPLETED",
          "ENROLLING_BY_INVITATION",
          "NOT_YET_RECRUITING",
          "NO_LONGER_AVAILABLE",
          "RECRUITING",
          "SUSPENDED",
          "TEMPORARILY_NOT_AVAILABLE",
          "TERMINATED",
          "UNKNOWN",
          "WITHDRAWN"
         ],
         "legendgroup": "",
         "name": "",
         "showlegend": true,
         "textinfo": "percent+label",
         "textposition": "inside",
         "type": "pie",
         "values": [
          7225,
          83,
          108,
          42915,
          505,
          4608,
          182,
          18854,
          443,
          9,
          8820,
          13176,
          3334
         ]
        },
        {
         "domain": {
          "x": [
           0.16999999999999998,
           0.31999999999999995
          ],
          "y": [
           0,
           1
          ]
         },
         "hole": 0.4,
         "hovertemplate": "Type=Covid 19-studies<br>Study Status=%{label}<br>n=%{value}<extra></extra>",
         "labels": [
          "ACTIVE_NOT_RECRUITING",
          "APPROVED_FOR_MARKETING",
          "AVAILABLE",
          "COMPLETED",
          "ENROLLING_BY_INVITATION",
          "NOT_YET_RECRUITING",
          "NO_LONGER_AVAILABLE",
          "RECRUITING",
          "SUSPENDED",
          "TERMINATED",
          "UNKNOWN",
          "WITHDRAWN"
         ],
         "legendgroup": "",
         "name": "",
         "showlegend": true,
         "textinfo": "percent+label",
         "textposition": "inside",
         "type": "pie",
         "values": [
          663,
          3,
          5,
          4043,
          94,
          431,
          29,
          1428,
          47,
          478,
          1758,
          363
         ]
        },
        {
         "domain": {
          "x": [
           0.33999999999999997,
           0.49
          ],
          "y": [
           0,
           1
          ]
         },
         "hole": 0.4,
         "hovertemplate": "Type=HIV-studies<br>Study Status=%{label}<br>n=%{value}<extra></extra>",
         "labels": [
          "ACTIVE_NOT_RECRUITING",
          "APPROVED_FOR_MARKETING",
          "AVAILABLE",
          "COMPLETED",
          "ENROLLING_BY_INVITATION",
          "NOT_YET_RECRUITING",
          "NO_LONGER_AVAILABLE",
          "RECRUITING",
          "SUSPENDED",
          "TERMINATED",
          "UNKNOWN",
          "WITHDRAWN"
         ],
         "legendgroup": "",
         "name": "",
         "showlegend": true,
         "textinfo": "percent+label",
         "textposition": "inside",
         "type": "pie",
         "values": [
          334,
          6,
          2,
          6337,
          56,
          256,
          12,
          803,
          18,
          381,
          699,
          209
         ]
        },
        {
         "domain": {
          "x": [
           0.51,
           0.66
          ],
          "y": [
           0,
           1
          ]
         },
         "hole": 0.4,
         "hovertemplate": "Type=Heart<br>Study Status=%{label}<br>n=%{value}<extra></extra>",
         "labels": [
          "ACTIVE_NOT_RECRUITING",
          "APPROVED_FOR_MARKETING",
          "AVAILABLE",
          "COMPLETED",
          "ENROLLING_BY_INVITATION",
          "NOT_YET_RECRUITING",
          "NO_LONGER_AVAILABLE",
          "RECRUITING",
          "SUSPENDED",
          "TEMPORARILY_NOT_AVAILABLE",
          "TERMINATED",
          "UNKNOWN",
          "WITHDRAWN"
         ],
         "legendgroup": "",
         "name": "",
         "showlegend": true,
         "textinfo": "percent+label",
         "textposition": "inside",
         "type": "pie",
         "values": [
          1189,
          8,
          4,
          16474,
          288,
          1432,
          11,
          4738,
          118,
          3,
          1843,
          5150,
          918
         ]
        },
        {
         "domain": {
          "x": [
           0.6799999999999999,
           0.83
          ],
          "y": [
           0,
           1
          ]
         },
         "hole": 0.4,
         "hovertemplate": "Type=Malaria-studies<br>Study Status=%{label}<br>n=%{value}<extra></extra>",
         "labels": [
          "ACTIVE_NOT_RECRUITING",
          "COMPLETED",
          "ENROLLING_BY_INVITATION",
          "NOT_YET_RECRUITING",
          "RECRUITING",
          "SUSPENDED",
          "TERMINATED",
          "UNKNOWN",
          "WITHDRAWN"
         ],
         "legendgroup": "",
         "name": "",
         "showlegend": true,
         "textinfo": "percent+label",
         "textposition": "inside",
         "type": "pie",
         "values": [
          37,
          954,
          2,
          36,
          102,
          7,
          51,
          108,
          33
         ]
        },
        {
         "domain": {
          "x": [
           0.85,
           1
          ],
          "y": [
           0,
           1
          ]
         },
         "hole": 0.4,
         "hovertemplate": "Type=Pneumonia-studies<br>Study Status=%{label}<br>n=%{value}<extra></extra>",
         "labels": [
          "ACTIVE_NOT_RECRUITING",
          "APPROVED_FOR_MARKETING",
          "AVAILABLE",
          "COMPLETED",
          "ENROLLING_BY_INVITATION",
          "NOT_YET_RECRUITING",
          "NO_LONGER_AVAILABLE",
          "RECRUITING",
          "SUSPENDED",
          "TERMINATED",
          "UNKNOWN",
          "WITHDRAWN"
         ],
         "legendgroup": "",
         "name": "",
         "showlegend": true,
         "textinfo": "percent+label",
         "textposition": "inside",
         "type": "pie",
         "values": [
          587,
          3,
          6,
          4362,
          92,
          446,
          25,
          1422,
          49,
          562,
          1748,
          338
         ]
        }
       ],
       "layout": {
        "annotations": [
         {
          "font": {},
          "showarrow": false,
          "text": "Type=Cancer-studies",
          "x": 0.075,
          "xanchor": "center",
          "xref": "paper",
          "y": 1,
          "yanchor": "bottom",
          "yref": "paper"
         },
         {
          "font": {},
          "showarrow": false,
          "text": "Type=Covid 19-studies",
          "x": 0.24499999999999997,
          "xanchor": "center",
          "xref": "paper",
          "y": 1,
          "yanchor": "bottom",
          "yref": "paper"
         },
         {
          "font": {},
          "showarrow": false,
          "text": "Type=HIV-studies",
          "x": 0.415,
          "xanchor": "center",
          "xref": "paper",
          "y": 1,
          "yanchor": "bottom",
          "yref": "paper"
         },
         {
          "font": {},
          "showarrow": false,
          "text": "Type=Heart",
          "x": 0.585,
          "xanchor": "center",
          "xref": "paper",
          "y": 1,
          "yanchor": "bottom",
          "yref": "paper"
         },
         {
          "font": {},
          "showarrow": false,
          "text": "Type=Malaria-studies",
          "x": 0.7549999999999999,
          "xanchor": "center",
          "xref": "paper",
          "y": 1,
          "yanchor": "bottom",
          "yref": "paper"
         },
         {
          "font": {},
          "showarrow": false,
          "text": "Type=Pneumonia-studies",
          "x": 0.925,
          "xanchor": "center",
          "xref": "paper",
          "y": 1,
          "yanchor": "bottom",
          "yref": "paper"
         }
        ],
        "legend": {
         "tracegroupgap": 0
        },
        "margin": {
         "t": 60
        },
        "piecolorway": [
         "#BC5308",
         "#FFECD1",
         "#C5CAB8",
         "#FF7D00",
         "#8AA79F",
         "#FFB569",
         "#15616D",
         "#001524"
        ],
        "showlegend": false,
        "template": {
         "data": {
          "bar": [
           {
            "error_x": {
             "color": "#2a3f5f"
            },
            "error_y": {
             "color": "#2a3f5f"
            },
            "marker": {
             "line": {
              "color": "white",
              "width": 0.5
             },
             "pattern": {
              "fillmode": "overlay",
              "size": 10,
              "solidity": 0.2
             }
            },
            "type": "bar"
           }
          ],
          "barpolar": [
           {
            "marker": {
             "line": {
              "color": "white",
              "width": 0.5
             },
             "pattern": {
              "fillmode": "overlay",
              "size": 10,
              "solidity": 0.2
             }
            },
            "type": "barpolar"
           }
          ],
          "carpet": [
           {
            "aaxis": {
             "endlinecolor": "#2a3f5f",
             "gridcolor": "#C8D4E3",
             "linecolor": "#C8D4E3",
             "minorgridcolor": "#C8D4E3",
             "startlinecolor": "#2a3f5f"
            },
            "baxis": {
             "endlinecolor": "#2a3f5f",
             "gridcolor": "#C8D4E3",
             "linecolor": "#C8D4E3",
             "minorgridcolor": "#C8D4E3",
             "startlinecolor": "#2a3f5f"
            },
            "type": "carpet"
           }
          ],
          "choropleth": [
           {
            "colorbar": {
             "outlinewidth": 0,
             "ticks": ""
            },
            "type": "choropleth"
           }
          ],
          "contour": [
           {
            "colorbar": {
             "outlinewidth": 0,
             "ticks": ""
            },
            "colorscale": [
             [
              0,
              "#0d0887"
             ],
             [
              0.1111111111111111,
              "#46039f"
             ],
             [
              0.2222222222222222,
              "#7201a8"
             ],
             [
              0.3333333333333333,
              "#9c179e"
             ],
             [
              0.4444444444444444,
              "#bd3786"
             ],
             [
              0.5555555555555556,
              "#d8576b"
             ],
             [
              0.6666666666666666,
              "#ed7953"
             ],
             [
              0.7777777777777778,
              "#fb9f3a"
             ],
             [
              0.8888888888888888,
              "#fdca26"
             ],
             [
              1,
              "#f0f921"
             ]
            ],
            "type": "contour"
           }
          ],
          "contourcarpet": [
           {
            "colorbar": {
             "outlinewidth": 0,
             "ticks": ""
            },
            "type": "contourcarpet"
           }
          ],
          "heatmap": [
           {
            "colorbar": {
             "outlinewidth": 0,
             "ticks": ""
            },
            "colorscale": [
             [
              0,
              "#0d0887"
             ],
             [
              0.1111111111111111,
              "#46039f"
             ],
             [
              0.2222222222222222,
              "#7201a8"
             ],
             [
              0.3333333333333333,
              "#9c179e"
             ],
             [
              0.4444444444444444,
              "#bd3786"
             ],
             [
              0.5555555555555556,
              "#d8576b"
             ],
             [
              0.6666666666666666,
              "#ed7953"
             ],
             [
              0.7777777777777778,
              "#fb9f3a"
             ],
             [
              0.8888888888888888,
              "#fdca26"
             ],
             [
              1,
              "#f0f921"
             ]
            ],
            "type": "heatmap"
           }
          ],
          "heatmapgl": [
           {
            "colorbar": {
             "outlinewidth": 0,
             "ticks": ""
            },
            "colorscale": [
             [
              0,
              "#0d0887"
             ],
             [
              0.1111111111111111,
              "#46039f"
             ],
             [
              0.2222222222222222,
              "#7201a8"
             ],
             [
              0.3333333333333333,
              "#9c179e"
             ],
             [
              0.4444444444444444,
              "#bd3786"
             ],
             [
              0.5555555555555556,
              "#d8576b"
             ],
             [
              0.6666666666666666,
              "#ed7953"
             ],
             [
              0.7777777777777778,
              "#fb9f3a"
             ],
             [
              0.8888888888888888,
              "#fdca26"
             ],
             [
              1,
              "#f0f921"
             ]
            ],
            "type": "heatmapgl"
           }
          ],
          "histogram": [
           {
            "marker": {
             "pattern": {
              "fillmode": "overlay",
              "size": 10,
              "solidity": 0.2
             }
            },
            "type": "histogram"
           }
          ],
          "histogram2d": [
           {
            "colorbar": {
             "outlinewidth": 0,
             "ticks": ""
            },
            "colorscale": [
             [
              0,
              "#0d0887"
             ],
             [
              0.1111111111111111,
              "#46039f"
             ],
             [
              0.2222222222222222,
              "#7201a8"
             ],
             [
              0.3333333333333333,
              "#9c179e"
             ],
             [
              0.4444444444444444,
              "#bd3786"
             ],
             [
              0.5555555555555556,
              "#d8576b"
             ],
             [
              0.6666666666666666,
              "#ed7953"
             ],
             [
              0.7777777777777778,
              "#fb9f3a"
             ],
             [
              0.8888888888888888,
              "#fdca26"
             ],
             [
              1,
              "#f0f921"
             ]
            ],
            "type": "histogram2d"
           }
          ],
          "histogram2dcontour": [
           {
            "colorbar": {
             "outlinewidth": 0,
             "ticks": ""
            },
            "colorscale": [
             [
              0,
              "#0d0887"
             ],
             [
              0.1111111111111111,
              "#46039f"
             ],
             [
              0.2222222222222222,
              "#7201a8"
             ],
             [
              0.3333333333333333,
              "#9c179e"
             ],
             [
              0.4444444444444444,
              "#bd3786"
             ],
             [
              0.5555555555555556,
              "#d8576b"
             ],
             [
              0.6666666666666666,
              "#ed7953"
             ],
             [
              0.7777777777777778,
              "#fb9f3a"
             ],
             [
              0.8888888888888888,
              "#fdca26"
             ],
             [
              1,
              "#f0f921"
             ]
            ],
            "type": "histogram2dcontour"
           }
          ],
          "mesh3d": [
           {
            "colorbar": {
             "outlinewidth": 0,
             "ticks": ""
            },
            "type": "mesh3d"
           }
          ],
          "parcoords": [
           {
            "line": {
             "colorbar": {
              "outlinewidth": 0,
              "ticks": ""
             }
            },
            "type": "parcoords"
           }
          ],
          "pie": [
           {
            "automargin": true,
            "type": "pie"
           }
          ],
          "scatter": [
           {
            "fillpattern": {
             "fillmode": "overlay",
             "size": 10,
             "solidity": 0.2
            },
            "type": "scatter"
           }
          ],
          "scatter3d": [
           {
            "line": {
             "colorbar": {
              "outlinewidth": 0,
              "ticks": ""
             }
            },
            "marker": {
             "colorbar": {
              "outlinewidth": 0,
              "ticks": ""
             }
            },
            "type": "scatter3d"
           }
          ],
          "scattercarpet": [
           {
            "marker": {
             "colorbar": {
              "outlinewidth": 0,
              "ticks": ""
             }
            },
            "type": "scattercarpet"
           }
          ],
          "scattergeo": [
           {
            "marker": {
             "colorbar": {
              "outlinewidth": 0,
              "ticks": ""
             }
            },
            "type": "scattergeo"
           }
          ],
          "scattergl": [
           {
            "marker": {
             "colorbar": {
              "outlinewidth": 0,
              "ticks": ""
             }
            },
            "type": "scattergl"
           }
          ],
          "scattermapbox": [
           {
            "marker": {
             "colorbar": {
              "outlinewidth": 0,
              "ticks": ""
             }
            },
            "type": "scattermapbox"
           }
          ],
          "scatterpolar": [
           {
            "marker": {
             "colorbar": {
              "outlinewidth": 0,
              "ticks": ""
             }
            },
            "type": "scatterpolar"
           }
          ],
          "scatterpolargl": [
           {
            "marker": {
             "colorbar": {
              "outlinewidth": 0,
              "ticks": ""
             }
            },
            "type": "scatterpolargl"
           }
          ],
          "scatterternary": [
           {
            "marker": {
             "colorbar": {
              "outlinewidth": 0,
              "ticks": ""
             }
            },
            "type": "scatterternary"
           }
          ],
          "surface": [
           {
            "colorbar": {
             "outlinewidth": 0,
             "ticks": ""
            },
            "colorscale": [
             [
              0,
              "#0d0887"
             ],
             [
              0.1111111111111111,
              "#46039f"
             ],
             [
              0.2222222222222222,
              "#7201a8"
             ],
             [
              0.3333333333333333,
              "#9c179e"
             ],
             [
              0.4444444444444444,
              "#bd3786"
             ],
             [
              0.5555555555555556,
              "#d8576b"
             ],
             [
              0.6666666666666666,
              "#ed7953"
             ],
             [
              0.7777777777777778,
              "#fb9f3a"
             ],
             [
              0.8888888888888888,
              "#fdca26"
             ],
             [
              1,
              "#f0f921"
             ]
            ],
            "type": "surface"
           }
          ],
          "table": [
           {
            "cells": {
             "fill": {
              "color": "#EBF0F8"
             },
             "line": {
              "color": "white"
             }
            },
            "header": {
             "fill": {
              "color": "#C8D4E3"
             },
             "line": {
              "color": "white"
             }
            },
            "type": "table"
           }
          ]
         },
         "layout": {
          "annotationdefaults": {
           "arrowcolor": "#2a3f5f",
           "arrowhead": 0,
           "arrowwidth": 1
          },
          "autotypenumbers": "strict",
          "coloraxis": {
           "colorbar": {
            "outlinewidth": 0,
            "ticks": ""
           }
          },
          "colorscale": {
           "diverging": [
            [
             0,
             "#8e0152"
            ],
            [
             0.1,
             "#c51b7d"
            ],
            [
             0.2,
             "#de77ae"
            ],
            [
             0.3,
             "#f1b6da"
            ],
            [
             0.4,
             "#fde0ef"
            ],
            [
             0.5,
             "#f7f7f7"
            ],
            [
             0.6,
             "#e6f5d0"
            ],
            [
             0.7,
             "#b8e186"
            ],
            [
             0.8,
             "#7fbc41"
            ],
            [
             0.9,
             "#4d9221"
            ],
            [
             1,
             "#276419"
            ]
           ],
           "sequential": [
            [
             0,
             "#0d0887"
            ],
            [
             0.1111111111111111,
             "#46039f"
            ],
            [
             0.2222222222222222,
             "#7201a8"
            ],
            [
             0.3333333333333333,
             "#9c179e"
            ],
            [
             0.4444444444444444,
             "#bd3786"
            ],
            [
             0.5555555555555556,
             "#d8576b"
            ],
            [
             0.6666666666666666,
             "#ed7953"
            ],
            [
             0.7777777777777778,
             "#fb9f3a"
            ],
            [
             0.8888888888888888,
             "#fdca26"
            ],
            [
             1,
             "#f0f921"
            ]
           ],
           "sequentialminus": [
            [
             0,
             "#0d0887"
            ],
            [
             0.1111111111111111,
             "#46039f"
            ],
            [
             0.2222222222222222,
             "#7201a8"
            ],
            [
             0.3333333333333333,
             "#9c179e"
            ],
            [
             0.4444444444444444,
             "#bd3786"
            ],
            [
             0.5555555555555556,
             "#d8576b"
            ],
            [
             0.6666666666666666,
             "#ed7953"
            ],
            [
             0.7777777777777778,
             "#fb9f3a"
            ],
            [
             0.8888888888888888,
             "#fdca26"
            ],
            [
             1,
             "#f0f921"
            ]
           ]
          },
          "colorway": [
           "#636efa",
           "#EF553B",
           "#00cc96",
           "#ab63fa",
           "#FFA15A",
           "#19d3f3",
           "#FF6692",
           "#B6E880",
           "#FF97FF",
           "#FECB52"
          ],
          "font": {
           "color": "#2a3f5f"
          },
          "geo": {
           "bgcolor": "white",
           "lakecolor": "white",
           "landcolor": "white",
           "showlakes": true,
           "showland": true,
           "subunitcolor": "#C8D4E3"
          },
          "hoverlabel": {
           "align": "left"
          },
          "hovermode": "closest",
          "mapbox": {
           "style": "light"
          },
          "paper_bgcolor": "white",
          "plot_bgcolor": "white",
          "polar": {
           "angularaxis": {
            "gridcolor": "#EBF0F8",
            "linecolor": "#EBF0F8",
            "ticks": ""
           },
           "bgcolor": "white",
           "radialaxis": {
            "gridcolor": "#EBF0F8",
            "linecolor": "#EBF0F8",
            "ticks": ""
           }
          },
          "scene": {
           "xaxis": {
            "backgroundcolor": "white",
            "gridcolor": "#DFE8F3",
            "gridwidth": 2,
            "linecolor": "#EBF0F8",
            "showbackground": true,
            "ticks": "",
            "zerolinecolor": "#EBF0F8"
           },
           "yaxis": {
            "backgroundcolor": "white",
            "gridcolor": "#DFE8F3",
            "gridwidth": 2,
            "linecolor": "#EBF0F8",
            "showbackground": true,
            "ticks": "",
            "zerolinecolor": "#EBF0F8"
           },
           "zaxis": {
            "backgroundcolor": "white",
            "gridcolor": "#DFE8F3",
            "gridwidth": 2,
            "linecolor": "#EBF0F8",
            "showbackground": true,
            "ticks": "",
            "zerolinecolor": "#EBF0F8"
           }
          },
          "shapedefaults": {
           "line": {
            "color": "#2a3f5f"
           }
          },
          "ternary": {
           "aaxis": {
            "gridcolor": "#DFE8F3",
            "linecolor": "#A2B1C6",
            "ticks": ""
           },
           "baxis": {
            "gridcolor": "#DFE8F3",
            "linecolor": "#A2B1C6",
            "ticks": ""
           },
           "bgcolor": "white",
           "caxis": {
            "gridcolor": "#DFE8F3",
            "linecolor": "#A2B1C6",
            "ticks": ""
           }
          },
          "title": {
           "x": 0.05
          },
          "xaxis": {
           "automargin": true,
           "gridcolor": "#EBF0F8",
           "linecolor": "#EBF0F8",
           "ticks": "",
           "title": {
            "standoff": 15
           },
           "zerolinecolor": "#EBF0F8",
           "zerolinewidth": 2
          },
          "yaxis": {
           "automargin": true,
           "gridcolor": "#EBF0F8",
           "linecolor": "#EBF0F8",
           "ticks": "",
           "title": {
            "standoff": 15
           },
           "zerolinecolor": "#EBF0F8",
           "zerolinewidth": 2
          }
         }
        },
        "title": {
         "text": "What is the current status of each study?",
         "x": 0.5,
         "y": 0.95
        }
       }
      }
     },
     "metadata": {},
     "output_type": "display_data"
    }
   ],
   "source": [
    "study = df.groupby(['Study Status','Type']).size().reset_index().rename(columns = {0:'n'})\n",
    "fig = px.pie(study, names='Study Status', values='n', color_discrete_sequence=colors, template='plotly_white',\n",
    "             hole=0.4,facet_col = 'Type')\n",
    "fig.update_traces(textposition='inside', textinfo='percent+label')\n",
    "fig.update_layout(showlegend=False)\n",
    "fig.update_layout(title_text='What is the current status of each study?', title_x=0.5, title_y=0.95)\n",
    "# Show the plot\n",
    "fig.show()"
   ]
  },
  {
   "cell_type": "code",
   "execution_count": 65,
   "metadata": {},
   "outputs": [
    {
     "data": {
      "text/html": [
       "<div>\n",
       "<style scoped>\n",
       "    .dataframe tbody tr th:only-of-type {\n",
       "        vertical-align: middle;\n",
       "    }\n",
       "\n",
       "    .dataframe tbody tr th {\n",
       "        vertical-align: top;\n",
       "    }\n",
       "\n",
       "    .dataframe thead th {\n",
       "        text-align: right;\n",
       "    }\n",
       "</style>\n",
       "<table border=\"1\" class=\"dataframe\">\n",
       "  <thead>\n",
       "    <tr style=\"text-align: right;\">\n",
       "      <th></th>\n",
       "      <th>Unnamed: 0</th>\n",
       "      <th>NCT Number</th>\n",
       "      <th>Study Title</th>\n",
       "      <th>Study URL</th>\n",
       "      <th>Acronym</th>\n",
       "      <th>Study Status</th>\n",
       "      <th>Brief Summary</th>\n",
       "      <th>Study Results</th>\n",
       "      <th>Conditions</th>\n",
       "      <th>Interventions</th>\n",
       "      <th>...</th>\n",
       "      <th>Other IDs</th>\n",
       "      <th>Start Date</th>\n",
       "      <th>Primary Completion Date</th>\n",
       "      <th>Completion Date</th>\n",
       "      <th>First Posted</th>\n",
       "      <th>Results First Posted</th>\n",
       "      <th>Last Update Posted</th>\n",
       "      <th>Locations</th>\n",
       "      <th>Study Documents</th>\n",
       "      <th>Type</th>\n",
       "    </tr>\n",
       "  </thead>\n",
       "  <tbody>\n",
       "    <tr>\n",
       "      <th>0</th>\n",
       "      <td>0</td>\n",
       "      <td>NCT02426125</td>\n",
       "      <td>A Study of Ramucirumab (LY3009806) Plus Doceta...</td>\n",
       "      <td>https://clinicaltrials.gov/study/NCT02426125</td>\n",
       "      <td>RANGE</td>\n",
       "      <td>COMPLETED</td>\n",
       "      <td>The main purpose of this study is to evaluate ...</td>\n",
       "      <td>YES</td>\n",
       "      <td>Urothelial Carcinoma</td>\n",
       "      <td>DRUG: Ramucirumab|DRUG: Docetaxel|DRUG: Placebo</td>\n",
       "      <td>...</td>\n",
       "      <td>15679|I4T-MC-JVDC|2014-003655-66</td>\n",
       "      <td>2015-07-13</td>\n",
       "      <td>2017-04-21</td>\n",
       "      <td>2022-07-26</td>\n",
       "      <td>2015-04-24</td>\n",
       "      <td>2019-01-25</td>\n",
       "      <td>2023-08-21</td>\n",
       "      <td>Highlands Oncology Group, Fayetteville, Arkans...</td>\n",
       "      <td>Study Protocol|Statistical Analysis Plan</td>\n",
       "      <td>Cancer-studies</td>\n",
       "    </tr>\n",
       "    <tr>\n",
       "      <th>1</th>\n",
       "      <td>1</td>\n",
       "      <td>NCT04910425</td>\n",
       "      <td>PSMA-Targeted 18F-DCFPyL PET/MRI for the Detec...</td>\n",
       "      <td>https://clinicaltrials.gov/study/NCT04910425</td>\n",
       "      <td>NaN</td>\n",
       "      <td>NOT_YET_RECRUITING</td>\n",
       "      <td>This phase II trial studies how well 18F-DCFPy...</td>\n",
       "      <td>NO</td>\n",
       "      <td>Prostate Carcinoma</td>\n",
       "      <td>DRUG: Fluorine F 18 DCFPyL|DRUG: Gadobenate Di...</td>\n",
       "      <td>...</td>\n",
       "      <td>NU 19U05|NCI-2021-05593|STU00212326|NU 19U05|P...</td>\n",
       "      <td>2023-06-17</td>\n",
       "      <td>2026-06-17</td>\n",
       "      <td>2028-07</td>\n",
       "      <td>2021-06-02</td>\n",
       "      <td>NaN</td>\n",
       "      <td>2022-08-03</td>\n",
       "      <td>Northwestern University, Chicago, Illinois, 60...</td>\n",
       "      <td>NaN</td>\n",
       "      <td>Cancer-studies</td>\n",
       "    </tr>\n",
       "    <tr>\n",
       "      <th>2</th>\n",
       "      <td>2</td>\n",
       "      <td>NCT04116125</td>\n",
       "      <td>Omitting Biopsy of SEntinel Lymph Node With Ra...</td>\n",
       "      <td>https://clinicaltrials.gov/study/NCT04116125</td>\n",
       "      <td>OBSERB</td>\n",
       "      <td>NOT_YET_RECRUITING</td>\n",
       "      <td>The OBSERB study is a multi-center, non-blinde...</td>\n",
       "      <td>NO</td>\n",
       "      <td>Breast Neoplasm Female|Lymphatic Metastasis</td>\n",
       "      <td>PROCEDURE: Radiotherapy</td>\n",
       "      <td>...</td>\n",
       "      <td>2019-09-023</td>\n",
       "      <td>2020-07-01</td>\n",
       "      <td>2023-06-30</td>\n",
       "      <td>2025-06-30</td>\n",
       "      <td>2019-10-04</td>\n",
       "      <td>NaN</td>\n",
       "      <td>2019-10-04</td>\n",
       "      <td>NaN</td>\n",
       "      <td>NaN</td>\n",
       "      <td>Cancer-studies</td>\n",
       "    </tr>\n",
       "    <tr>\n",
       "      <th>3</th>\n",
       "      <td>3</td>\n",
       "      <td>NCT03566225</td>\n",
       "      <td>Pioglitazone Versus Metformin as First Treatme...</td>\n",
       "      <td>https://clinicaltrials.gov/study/NCT03566225</td>\n",
       "      <td>NaN</td>\n",
       "      <td>COMPLETED</td>\n",
       "      <td>Participants with PCOS will be divided into tw...</td>\n",
       "      <td>NO</td>\n",
       "      <td>Pioglitazone</td>\n",
       "      <td>DRUG: Pioglitazone|DRUG: Metformin|DRUG: Clomi...</td>\n",
       "      <td>...</td>\n",
       "      <td>AinShamaU</td>\n",
       "      <td>2018-01-30</td>\n",
       "      <td>2021-02-28</td>\n",
       "      <td>2021-03-30</td>\n",
       "      <td>2018-06-25</td>\n",
       "      <td>NaN</td>\n",
       "      <td>2021-06-02</td>\n",
       "      <td>Ain Shams Univerisity, Cairo, Egypt</td>\n",
       "      <td>NaN</td>\n",
       "      <td>Cancer-studies</td>\n",
       "    </tr>\n",
       "    <tr>\n",
       "      <th>4</th>\n",
       "      <td>4</td>\n",
       "      <td>NCT01756625</td>\n",
       "      <td>PREMIUM, Observational Study</td>\n",
       "      <td>https://clinicaltrials.gov/study/NCT01756625</td>\n",
       "      <td>NaN</td>\n",
       "      <td>UNKNOWN</td>\n",
       "      <td>PREMIUM is an observational pharmaco-epidemiol...</td>\n",
       "      <td>NO</td>\n",
       "      <td>First Line WT KRAS mCRC</td>\n",
       "      <td>NaN</td>\n",
       "      <td>...</td>\n",
       "      <td>PREMIUM</td>\n",
       "      <td>2010-01</td>\n",
       "      <td>2012-03</td>\n",
       "      <td>2013-06</td>\n",
       "      <td>2012-12-27</td>\n",
       "      <td>NaN</td>\n",
       "      <td>2012-12-27</td>\n",
       "      <td>Institut Sainte-Catherine, Avignon, Vaucluse, ...</td>\n",
       "      <td>NaN</td>\n",
       "      <td>Cancer-studies</td>\n",
       "    </tr>\n",
       "    <tr>\n",
       "      <th>5</th>\n",
       "      <td>5</td>\n",
       "      <td>NCT03063125</td>\n",
       "      <td>Perioperative Hypogonadism in Men Undergoing R...</td>\n",
       "      <td>https://clinicaltrials.gov/study/NCT03063125</td>\n",
       "      <td>NaN</td>\n",
       "      <td>COMPLETED</td>\n",
       "      <td>The purpose of this study is to examine the re...</td>\n",
       "      <td>YES</td>\n",
       "      <td>Bladder Cancer|Low Testosterone Levels</td>\n",
       "      <td>NaN</td>\n",
       "      <td>...</td>\n",
       "      <td>STUDY00140348</td>\n",
       "      <td>2017-03-31</td>\n",
       "      <td>2018-04-20</td>\n",
       "      <td>2018-04-20</td>\n",
       "      <td>2017-02-24</td>\n",
       "      <td>2020-09-08</td>\n",
       "      <td>2021-08-03</td>\n",
       "      <td>University of Kansas Medical Center, Kansas Ci...</td>\n",
       "      <td>Study Protocol and Statistical Analysis Plan|I...</td>\n",
       "      <td>Cancer-studies</td>\n",
       "    </tr>\n",
       "    <tr>\n",
       "      <th>6</th>\n",
       "      <td>6</td>\n",
       "      <td>NCT05158725</td>\n",
       "      <td>Comparison of Colonoscopy Adenoma Detection Yield</td>\n",
       "      <td>https://clinicaltrials.gov/study/NCT05158725</td>\n",
       "      <td>NaN</td>\n",
       "      <td>RECRUITING</td>\n",
       "      <td>A Prospective Randomized Comparison of colonos...</td>\n",
       "      <td>NO</td>\n",
       "      <td>Adenoma Colon</td>\n",
       "      <td>DEVICE: Standard Colonoscopy|DEVICE: Discovery...</td>\n",
       "      <td>...</td>\n",
       "      <td>G-EYE/Discovery</td>\n",
       "      <td>2021-11-08</td>\n",
       "      <td>2022-05</td>\n",
       "      <td>2022-06</td>\n",
       "      <td>2021-12-15</td>\n",
       "      <td>NaN</td>\n",
       "      <td>2021-12-15</td>\n",
       "      <td>Helios Dr. Horst Schmidt Kliniken Wiesbaden Gm...</td>\n",
       "      <td>NaN</td>\n",
       "      <td>Cancer-studies</td>\n",
       "    </tr>\n",
       "    <tr>\n",
       "      <th>7</th>\n",
       "      <td>7</td>\n",
       "      <td>NCT00643825</td>\n",
       "      <td>Prolonged Adjuvant Temozolomide vs \"Stop &amp; Go\"...</td>\n",
       "      <td>https://clinicaltrials.gov/study/NCT00643825</td>\n",
       "      <td>PATSGO</td>\n",
       "      <td>UNKNOWN</td>\n",
       "      <td>This study will test the hypothesis that prolo...</td>\n",
       "      <td>NO</td>\n",
       "      <td>Glioblastoma</td>\n",
       "      <td>DRUG: Temozolomide|DRUG: Temozolomide</td>\n",
       "      <td>...</td>\n",
       "      <td>UCL-ONCO 06-004</td>\n",
       "      <td>2008-01</td>\n",
       "      <td>2011-01</td>\n",
       "      <td>2012-01</td>\n",
       "      <td>2008-03-26</td>\n",
       "      <td>NaN</td>\n",
       "      <td>2010-07-23</td>\n",
       "      <td>Cliniques Universitaires Saint-Luc, Brussels, ...</td>\n",
       "      <td>NaN</td>\n",
       "      <td>Cancer-studies</td>\n",
       "    </tr>\n",
       "    <tr>\n",
       "      <th>8</th>\n",
       "      <td>8</td>\n",
       "      <td>NCT00070525</td>\n",
       "      <td>Tipifarnib in Treating Young Patients With Rec...</td>\n",
       "      <td>https://clinicaltrials.gov/study/NCT00070525</td>\n",
       "      <td>NaN</td>\n",
       "      <td>COMPLETED</td>\n",
       "      <td>This phase II trial is studying how well tipif...</td>\n",
       "      <td>NO</td>\n",
       "      <td>Childhood High-grade Cerebral Astrocytoma|Chil...</td>\n",
       "      <td>DRUG: tipifarnib</td>\n",
       "      <td>...</td>\n",
       "      <td>NCI-2012-01806|NCI-2012-01806|CDR0000334862|CO...</td>\n",
       "      <td>2003-11</td>\n",
       "      <td>2006-09</td>\n",
       "      <td>NaN</td>\n",
       "      <td>2003-10-07</td>\n",
       "      <td>NaN</td>\n",
       "      <td>2013-10-08</td>\n",
       "      <td>Children's Oncology Group, Arcadia, California...</td>\n",
       "      <td>NaN</td>\n",
       "      <td>Cancer-studies</td>\n",
       "    </tr>\n",
       "    <tr>\n",
       "      <th>9</th>\n",
       "      <td>9</td>\n",
       "      <td>NCT02996825</td>\n",
       "      <td>Mirvetuximab Soravtansine and Gemcitabine Hydr...</td>\n",
       "      <td>https://clinicaltrials.gov/study/NCT02996825</td>\n",
       "      <td>NaN</td>\n",
       "      <td>ACTIVE_NOT_RECRUITING</td>\n",
       "      <td>This phase I trial studies the side effects an...</td>\n",
       "      <td>NO</td>\n",
       "      <td>Recurrent Breast Carcinoma|Recurrent Fallopian...</td>\n",
       "      <td>DRUG: Gemcitabine|DRUG: Gemcitabine Hydrochlor...</td>\n",
       "      <td>...</td>\n",
       "      <td>16294|NCI-2016-01913|16294</td>\n",
       "      <td>2017-03-22</td>\n",
       "      <td>2023-11-22</td>\n",
       "      <td>2023-11-22</td>\n",
       "      <td>2016-12-19</td>\n",
       "      <td>NaN</td>\n",
       "      <td>2023-06-15</td>\n",
       "      <td>City of Hope Medical Center, Duarte, Californi...</td>\n",
       "      <td>NaN</td>\n",
       "      <td>Cancer-studies</td>\n",
       "    </tr>\n",
       "  </tbody>\n",
       "</table>\n",
       "<p>10 rows × 32 columns</p>\n",
       "</div>"
      ],
      "text/plain": [
       "   Unnamed: 0   NCT Number                                        Study Title  \\\n",
       "0           0  NCT02426125  A Study of Ramucirumab (LY3009806) Plus Doceta...   \n",
       "1           1  NCT04910425  PSMA-Targeted 18F-DCFPyL PET/MRI for the Detec...   \n",
       "2           2  NCT04116125  Omitting Biopsy of SEntinel Lymph Node With Ra...   \n",
       "3           3  NCT03566225  Pioglitazone Versus Metformin as First Treatme...   \n",
       "4           4  NCT01756625                       PREMIUM, Observational Study   \n",
       "5           5  NCT03063125  Perioperative Hypogonadism in Men Undergoing R...   \n",
       "6           6  NCT05158725  Comparison of Colonoscopy Adenoma Detection Yield   \n",
       "7           7  NCT00643825  Prolonged Adjuvant Temozolomide vs \"Stop & Go\"...   \n",
       "8           8  NCT00070525  Tipifarnib in Treating Young Patients With Rec...   \n",
       "9           9  NCT02996825  Mirvetuximab Soravtansine and Gemcitabine Hydr...   \n",
       "\n",
       "                                      Study URL Acronym  \\\n",
       "0  https://clinicaltrials.gov/study/NCT02426125   RANGE   \n",
       "1  https://clinicaltrials.gov/study/NCT04910425     NaN   \n",
       "2  https://clinicaltrials.gov/study/NCT04116125  OBSERB   \n",
       "3  https://clinicaltrials.gov/study/NCT03566225     NaN   \n",
       "4  https://clinicaltrials.gov/study/NCT01756625     NaN   \n",
       "5  https://clinicaltrials.gov/study/NCT03063125     NaN   \n",
       "6  https://clinicaltrials.gov/study/NCT05158725     NaN   \n",
       "7  https://clinicaltrials.gov/study/NCT00643825  PATSGO   \n",
       "8  https://clinicaltrials.gov/study/NCT00070525     NaN   \n",
       "9  https://clinicaltrials.gov/study/NCT02996825     NaN   \n",
       "\n",
       "            Study Status                                      Brief Summary  \\\n",
       "0              COMPLETED  The main purpose of this study is to evaluate ...   \n",
       "1     NOT_YET_RECRUITING  This phase II trial studies how well 18F-DCFPy...   \n",
       "2     NOT_YET_RECRUITING  The OBSERB study is a multi-center, non-blinde...   \n",
       "3              COMPLETED  Participants with PCOS will be divided into tw...   \n",
       "4                UNKNOWN  PREMIUM is an observational pharmaco-epidemiol...   \n",
       "5              COMPLETED  The purpose of this study is to examine the re...   \n",
       "6             RECRUITING  A Prospective Randomized Comparison of colonos...   \n",
       "7                UNKNOWN  This study will test the hypothesis that prolo...   \n",
       "8              COMPLETED  This phase II trial is studying how well tipif...   \n",
       "9  ACTIVE_NOT_RECRUITING  This phase I trial studies the side effects an...   \n",
       "\n",
       "  Study Results                                         Conditions  \\\n",
       "0           YES                               Urothelial Carcinoma   \n",
       "1            NO                                 Prostate Carcinoma   \n",
       "2            NO        Breast Neoplasm Female|Lymphatic Metastasis   \n",
       "3            NO                                       Pioglitazone   \n",
       "4            NO                            First Line WT KRAS mCRC   \n",
       "5           YES             Bladder Cancer|Low Testosterone Levels   \n",
       "6            NO                                      Adenoma Colon   \n",
       "7            NO                                       Glioblastoma   \n",
       "8            NO  Childhood High-grade Cerebral Astrocytoma|Chil...   \n",
       "9            NO  Recurrent Breast Carcinoma|Recurrent Fallopian...   \n",
       "\n",
       "                                       Interventions  ...  \\\n",
       "0    DRUG: Ramucirumab|DRUG: Docetaxel|DRUG: Placebo  ...   \n",
       "1  DRUG: Fluorine F 18 DCFPyL|DRUG: Gadobenate Di...  ...   \n",
       "2                            PROCEDURE: Radiotherapy  ...   \n",
       "3  DRUG: Pioglitazone|DRUG: Metformin|DRUG: Clomi...  ...   \n",
       "4                                                NaN  ...   \n",
       "5                                                NaN  ...   \n",
       "6  DEVICE: Standard Colonoscopy|DEVICE: Discovery...  ...   \n",
       "7              DRUG: Temozolomide|DRUG: Temozolomide  ...   \n",
       "8                                   DRUG: tipifarnib  ...   \n",
       "9  DRUG: Gemcitabine|DRUG: Gemcitabine Hydrochlor...  ...   \n",
       "\n",
       "                                           Other IDs  Start Date  \\\n",
       "0                   15679|I4T-MC-JVDC|2014-003655-66  2015-07-13   \n",
       "1  NU 19U05|NCI-2021-05593|STU00212326|NU 19U05|P...  2023-06-17   \n",
       "2                                        2019-09-023  2020-07-01   \n",
       "3                                          AinShamaU  2018-01-30   \n",
       "4                                            PREMIUM     2010-01   \n",
       "5                                      STUDY00140348  2017-03-31   \n",
       "6                                    G-EYE/Discovery  2021-11-08   \n",
       "7                                    UCL-ONCO 06-004     2008-01   \n",
       "8  NCI-2012-01806|NCI-2012-01806|CDR0000334862|CO...     2003-11   \n",
       "9                         16294|NCI-2016-01913|16294  2017-03-22   \n",
       "\n",
       "  Primary Completion Date Completion Date First Posted Results First Posted  \\\n",
       "0              2017-04-21      2022-07-26   2015-04-24           2019-01-25   \n",
       "1              2026-06-17         2028-07   2021-06-02                  NaN   \n",
       "2              2023-06-30      2025-06-30   2019-10-04                  NaN   \n",
       "3              2021-02-28      2021-03-30   2018-06-25                  NaN   \n",
       "4                 2012-03         2013-06   2012-12-27                  NaN   \n",
       "5              2018-04-20      2018-04-20   2017-02-24           2020-09-08   \n",
       "6                 2022-05         2022-06   2021-12-15                  NaN   \n",
       "7                 2011-01         2012-01   2008-03-26                  NaN   \n",
       "8                 2006-09             NaN   2003-10-07                  NaN   \n",
       "9              2023-11-22      2023-11-22   2016-12-19                  NaN   \n",
       "\n",
       "  Last Update Posted                                          Locations  \\\n",
       "0         2023-08-21  Highlands Oncology Group, Fayetteville, Arkans...   \n",
       "1         2022-08-03  Northwestern University, Chicago, Illinois, 60...   \n",
       "2         2019-10-04                                                NaN   \n",
       "3         2021-06-02                Ain Shams Univerisity, Cairo, Egypt   \n",
       "4         2012-12-27  Institut Sainte-Catherine, Avignon, Vaucluse, ...   \n",
       "5         2021-08-03  University of Kansas Medical Center, Kansas Ci...   \n",
       "6         2021-12-15  Helios Dr. Horst Schmidt Kliniken Wiesbaden Gm...   \n",
       "7         2010-07-23  Cliniques Universitaires Saint-Luc, Brussels, ...   \n",
       "8         2013-10-08  Children's Oncology Group, Arcadia, California...   \n",
       "9         2023-06-15  City of Hope Medical Center, Duarte, Californi...   \n",
       "\n",
       "                                     Study Documents            Type  \n",
       "0           Study Protocol|Statistical Analysis Plan  Cancer-studies  \n",
       "1                                                NaN  Cancer-studies  \n",
       "2                                                NaN  Cancer-studies  \n",
       "3                                                NaN  Cancer-studies  \n",
       "4                                                NaN  Cancer-studies  \n",
       "5  Study Protocol and Statistical Analysis Plan|I...  Cancer-studies  \n",
       "6                                                NaN  Cancer-studies  \n",
       "7                                                NaN  Cancer-studies  \n",
       "8                                                NaN  Cancer-studies  \n",
       "9                                                NaN  Cancer-studies  \n",
       "\n",
       "[10 rows x 32 columns]"
      ]
     },
     "execution_count": 65,
     "metadata": {},
     "output_type": "execute_result"
    }
   ],
   "source": [
    "# This is just to see the brief summary of each of the study\n",
    "# select one of the study\n",
    "cancer = df[df['Type']=='Cancer-studies']\n",
    "cancer.head(10)"
   ]
  },
  {
   "cell_type": "code",
   "execution_count": null,
   "metadata": {},
   "outputs": [],
   "source": []
  }
 ],
 "metadata": {
  "kernelspec": {
   "display_name": "base",
   "language": "python",
   "name": "python3"
  },
  "language_info": {
   "codemirror_mode": {
    "name": "ipython",
    "version": 3
   },
   "file_extension": ".py",
   "mimetype": "text/x-python",
   "name": "python",
   "nbconvert_exporter": "python",
   "pygments_lexer": "ipython3",
   "version": "3.11.5"
  }
 },
 "nbformat": 4,
 "nbformat_minor": 2
}
